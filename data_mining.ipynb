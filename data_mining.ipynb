{
  "cells": [
    {
      "attachments": {},
      "cell_type": "markdown",
      "source": [
        "## Data mining with Apache Spark\n"
      ],
      "metadata": {}
    },
    {
      "cell_type": "code",
      "source": [
        "import matplotlib.pyplot as plt\n",
        "import seaborn as sns\n",
        "import pandas as pd"
      ],
      "outputs": [
        {
          "output_type": "display_data",
          "data": {
            "application/vnd.livy.statement-meta+json": {
              "spark_pool": "NEWPOOL",
              "session_id": "1",
              "statement_id": 2,
              "state": "finished",
              "livy_statement_state": "available",
              "queued_time": "2024-03-03T16:00:06.4713275Z",
              "session_start_time": "2024-03-03T16:00:06.5207996Z",
              "execution_start_time": "2024-03-03T16:02:18.2819881Z",
              "execution_finish_time": "2024-03-03T16:02:35.5644464Z",
              "spark_jobs": null,
              "parent_msg_id": "7f5dfb39-3cfd-4062-ab66-24d75e6344a8"
            },
            "text/plain": "StatementMeta(NEWPOOL, 1, 2, Finished, Available)"
          },
          "metadata": {}
        }
      ],
      "execution_count": 1,
      "metadata": {}
    },
    {
      "cell_type": "code",
      "source": [
        "import numpy as np"
      ],
      "outputs": [
        {
          "output_type": "display_data",
          "data": {
            "application/vnd.livy.statement-meta+json": {
              "spark_pool": "NEWPOOL",
              "session_id": "1",
              "statement_id": 58,
              "state": "finished",
              "livy_statement_state": "available",
              "queued_time": "2024-03-03T16:36:11.2260578Z",
              "session_start_time": null,
              "execution_start_time": "2024-03-03T16:36:11.3645604Z",
              "execution_finish_time": "2024-03-03T16:36:11.5128991Z",
              "spark_jobs": null,
              "parent_msg_id": "9c01558a-20c5-4789-b6e7-64627973f365"
            },
            "text/plain": "StatementMeta(NEWPOOL, 1, 58, Finished, Available)"
          },
          "metadata": {}
        }
      ],
      "execution_count": 57,
      "metadata": {
        "jupyter": {
          "source_hidden": false,
          "outputs_hidden": false
        },
        "nteract": {
          "transient": {
            "deleting": false
          }
        }
      }
    },
    {
      "cell_type": "code",
      "source": [
        "from azureml.opendatasets import NycTlcYellow #Get sample dataset\n",
        "from datetime import datetime\n",
        "from dateutil import parser\n",
        "\n",
        "# Get a sample set of data\n",
        "end_date = parser.parse('2018-06-06')\n",
        "start_date = parser.parse('2018-05-01')\n",
        "nyc_tlc = NycTlcYellow(start_date=start_date, end_date=end_date)\n",
        "df = nyc_tlc.to_spark_dataframe()"
      ],
      "outputs": [
        {
          "output_type": "display_data",
          "data": {
            "application/vnd.livy.statement-meta+json": {
              "spark_pool": "NEWPOOL",
              "session_id": "1",
              "statement_id": 3,
              "state": "finished",
              "livy_statement_state": "available",
              "queued_time": "2024-03-03T16:02:38.9017259Z",
              "session_start_time": null,
              "execution_start_time": "2024-03-03T16:02:39.0319617Z",
              "execution_finish_time": "2024-03-03T16:03:30.210522Z",
              "spark_jobs": null,
              "parent_msg_id": "c21ddc34-4b7a-4945-a25a-5f3bc9545b50"
            },
            "text/plain": "StatementMeta(NEWPOOL, 1, 3, Finished, Available)"
          },
          "metadata": {}
        }
      ],
      "execution_count": 2,
      "metadata": {}
    },
    {
      "cell_type": "code",
      "source": [
        "# Filter the dataset \n",
        "from pyspark.sql.functions import *\n",
        "\n",
        "filtered_df = df.select('vendorID', 'passengerCount', 'tripDistance','paymentType', 'fareAmount', 'tipAmount'\\\n",
        "                                , date_format('tpepPickupDateTime', 'hh').alias('hour_of_day')\\\n",
        "                                , dayofweek('tpepPickupDateTime').alias('day_of_week')\\\n",
        "                                , dayofmonth(col('tpepPickupDateTime')).alias('day_of_month'))\\\n",
        "                            .filter((df.passengerCount > 0)\\\n",
        "                                & (df.tipAmount >= 0)\\\n",
        "                                & (df.fareAmount >= 1) & (df.fareAmount <= 250)\\\n",
        "                                & (df.tripDistance > 0) & (df.tripDistance <= 200))\n",
        "\n",
        "filtered_df.createOrReplaceTempView(\"taxi_dataset\") # Create temporal data to use with SQL or other languages"
      ],
      "outputs": [
        {
          "output_type": "display_data",
          "data": {
            "application/vnd.livy.statement-meta+json": {
              "spark_pool": "NEWPOOL",
              "session_id": "1",
              "statement_id": 4,
              "state": "finished",
              "livy_statement_state": "available",
              "queued_time": "2024-03-03T16:03:35.2664736Z",
              "session_start_time": null,
              "execution_start_time": "2024-03-03T16:03:35.3988985Z",
              "execution_finish_time": "2024-03-03T16:03:37.2501891Z",
              "spark_jobs": null,
              "parent_msg_id": "e286b04e-0ec5-44ee-8d88-c8fb718a4882"
            },
            "text/plain": "StatementMeta(NEWPOOL, 1, 4, Finished, Available)"
          },
          "metadata": {}
        }
      ],
      "execution_count": 3,
      "metadata": {}
    },
    {
      "cell_type": "markdown",
      "source": [
        "### Analyze with SQL"
      ],
      "metadata": {
        "nteract": {
          "transient": {
            "deleting": false
          }
        }
      }
    },
    {
      "cell_type": "code",
      "source": [
        "%%sql\n",
        "-- Analyze some info inside the temp table\n",
        "SELECT \n",
        "    day_of_month\n",
        "    , MIN(tipAmount) AS minTipAmount\n",
        "    , MAX(tipAmount) AS maxTipAmount\n",
        "    , AVG(tipAmount) AS avgTipAmount\n",
        "    , AVG(fareAmount) as fareAmount\n",
        "FROM taxi_dataset \n",
        "GROUP BY day_of_month\n",
        "ORDER BY day_of_month ASC"
      ],
      "outputs": [
        {
          "output_type": "display_data",
          "data": {
            "application/vnd.livy.statement-meta+json": {
              "spark_pool": "NEWPOOL",
              "session_id": "1",
              "statement_id": 5,
              "state": "finished",
              "livy_statement_state": "available",
              "queued_time": "2024-03-03T16:03:41.5122751Z",
              "session_start_time": null,
              "execution_start_time": "2024-03-03T16:03:41.6353159Z",
              "execution_finish_time": "2024-03-03T16:03:56.9819741Z",
              "spark_jobs": null,
              "parent_msg_id": "533b92f3-6775-4fc8-bced-03ba0723e259"
            },
            "text/plain": "StatementMeta(NEWPOOL, 1, 5, Finished, Available)"
          },
          "metadata": {}
        },
        {
          "output_type": "execute_result",
          "execution_count": 4,
          "data": {
            "application/vnd.synapse.sparksql-result+json": {
              "schema": {
                "type": "struct",
                "fields": [
                  {
                    "name": "day_of_month",
                    "type": "integer",
                    "nullable": true,
                    "metadata": {}
                  },
                  {
                    "name": "minTipAmount",
                    "type": "double",
                    "nullable": true,
                    "metadata": {}
                  },
                  {
                    "name": "maxTipAmount",
                    "type": "double",
                    "nullable": true,
                    "metadata": {}
                  },
                  {
                    "name": "avgTipAmount",
                    "type": "double",
                    "nullable": true,
                    "metadata": {}
                  },
                  {
                    "name": "fareAmount",
                    "type": "double",
                    "nullable": true,
                    "metadata": {}
                  }
                ]
              },
              "data": [
                [
                  1,
                  0,
                  128,
                  1.8950143518323828,
                  13.051973968857334
                ],
                [
                  2,
                  0,
                  221.79,
                  1.803334294454174,
                  12.750987495227957
                ],
                [
                  3,
                  0,
                  180,
                  1.9541590304563967,
                  13.564916761220958
                ],
                [
                  4,
                  0,
                  200,
                  1.9673745687367776,
                  13.393493962314226
                ],
                [
                  5,
                  0,
                  222,
                  1.808874370681518,
                  12.811872912974238
                ],
                [
                  6,
                  0,
                  322,
                  1.8436246428196965,
                  13.324577232445195
                ],
                [
                  7,
                  0,
                  100,
                  1.935495054982367,
                  13.222258932618555
                ],
                [
                  8,
                  0,
                  125.55,
                  1.9377608749738546,
                  13.022920136706475
                ],
                [
                  9,
                  0,
                  227.77,
                  2.0112769023828188,
                  13.426772450678966
                ],
                [
                  10,
                  0,
                  100,
                  2.016271862060487,
                  13.56830579074223
                ],
                [
                  11,
                  0,
                  120,
                  1.9987530182282738,
                  13.827469129624305
                ],
                [
                  12,
                  0,
                  127,
                  1.6311651861533119,
                  12.19941455006913
                ],
                [
                  13,
                  0,
                  250,
                  1.7756142655082436,
                  12.954970881563376
                ],
                [
                  14,
                  0,
                  258.2,
                  1.988768941813431,
                  13.425044728401415
                ],
                [
                  15,
                  0,
                  166.66,
                  2.018929964221573,
                  13.60823887138478
                ],
                [
                  16,
                  0,
                  288.4,
                  2.131479827313343,
                  14.271498859646062
                ],
                [
                  17,
                  0,
                  146,
                  2.0896275629460486,
                  14.039425007285061
                ],
                [
                  18,
                  0,
                  190,
                  1.9741724582197613,
                  13.596031630907461
                ],
                [
                  19,
                  0,
                  228.51,
                  1.7033962980814321,
                  12.625626418382558
                ],
                [
                  20,
                  0,
                  100,
                  1.8495435627976378,
                  13.375319270823455
                ],
                [
                  21,
                  0,
                  111,
                  1.947334609145809,
                  13.18956024568502
                ],
                [
                  22,
                  0,
                  110,
                  2.01569689783017,
                  13.511412604950388
                ],
                [
                  23,
                  0,
                  181,
                  2.0588161086359036,
                  13.794546758549764
                ],
                [
                  24,
                  0,
                  200,
                  2.021668375055791,
                  13.745967758038859
                ],
                [
                  25,
                  0,
                  150,
                  1.7987606079981882,
                  13.075984037142526
                ],
                [
                  26,
                  0,
                  87.93,
                  1.4593705446862841,
                  12.228912001649002
                ],
                [
                  27,
                  0,
                  150,
                  1.4959991024682284,
                  12.349990276738968
                ],
                [
                  28,
                  0,
                  172.57,
                  1.871434461981959,
                  13.73207063400467
                ],
                [
                  29,
                  0,
                  216.2,
                  1.929651714144611,
                  13.377924295943426
                ],
                [
                  30,
                  0,
                  221,
                  1.9434078432695547,
                  13.329839357971405
                ],
                [
                  31,
                  0,
                  180,
                  2.0029305696152133,
                  13.528082011729733
                ]
              ]
            },
            "text/plain": "<Spark SQL result set with 31 rows and 5 fields>"
          },
          "metadata": {}
        }
      ],
      "execution_count": 4,
      "metadata": {
        "microsoft": {
          "language": "sparksql"
        },
        "diagram": {
          "activateDiagramType": 1,
          "chartConfig": {
            "category": "bar",
            "keys": [
              "minTipAmount"
            ],
            "values": [
              "day_of_month"
            ],
            "yLabel": "day_of_month",
            "xLabel": "minTipAmount",
            "aggregation": "SUM",
            "aggByBackend": false
          },
          "aggData": "{\"day_of_month\":{\"0\":496}}",
          "isSummary": false,
          "previewData": {
            "filter": null
          },
          "isSql": true
        },
        "collapsed": false
      }
    },
    {
      "cell_type": "markdown",
      "source": [
        "### With Matplotlib"
      ],
      "metadata": {
        "nteract": {
          "transient": {
            "deleting": false
          }
        }
      }
    },
    {
      "cell_type": "code",
      "source": [
        "# To make development easier, faster and less expensive down sample for now\n",
        "sampled_taxi_df = filtered_df.sample(True, 0.001, seed=1234)\n",
        "\n",
        "# The charting package needs a Pandas dataframe or numpy array do the conversion\n",
        "sampled_taxi_pd_df = sampled_taxi_df.toPandas()"
      ],
      "outputs": [
        {
          "output_type": "display_data",
          "data": {
            "application/vnd.livy.statement-meta+json": {
              "spark_pool": "NEWPOOL",
              "session_id": "1",
              "statement_id": 6,
              "state": "finished",
              "livy_statement_state": "available",
              "queued_time": "2024-03-03T16:04:00.353328Z",
              "session_start_time": null,
              "execution_start_time": "2024-03-03T16:04:00.4989057Z",
              "execution_finish_time": "2024-03-03T16:04:11.1576983Z",
              "spark_jobs": null,
              "parent_msg_id": "ca8043f3-def1-4e4a-a5dc-894c040d6277"
            },
            "text/plain": "StatementMeta(NEWPOOL, 1, 6, Finished, Available)"
          },
          "metadata": {}
        }
      ],
      "execution_count": 5,
      "metadata": {}
    },
    {
      "cell_type": "code",
      "source": [
        "# Look at tips by count histogram using Matplotlib\n",
        "\n",
        "ax1 = sampled_taxi_pd_df['tipAmount'].plot(kind='hist', bins=25, facecolor='lightblue')\n",
        "ax1.set_title('Tip amount distribution')\n",
        "ax1.set_xlabel('Tip Amount ($)')\n",
        "ax1.set_ylabel('Counts')\n",
        "plt.suptitle('')\n",
        "plt.show()"
      ],
      "outputs": [
        {
          "output_type": "execute_result",
          "execution_count": 7,
          "data": {
            "image/png": "[encoded data removed]"
          },
          "metadata": {}
        }
      ],
      "execution_count": 6,
      "metadata": {}
    },
    {
      "cell_type": "code",
      "source": [
        "# View the distribution of tips by day of week using Seaborn\n",
        "ax = sns.boxplot(x=\"day_of_week\", y=\"tipAmount\",data=sampled_taxi_pd_df, showfliers = False)\n",
        "ax.set_title('Tip amount distribution per day')\n",
        "ax.set_xlabel('Day of Week')\n",
        "ax.set_ylabel('Tip Amount ($)')\n",
        "plt.show()"
      ],
      "outputs": [
        {
          "output_type": "display_data",
          "data": {
            "application/vnd.livy.statement-meta+json": {
              "spark_pool": "NEWPOOL",
              "session_id": "1",
              "statement_id": 7,
              "state": "finished",
              "livy_statement_state": "available",
              "queued_time": "2024-03-03T16:04:02.785046Z",
              "session_start_time": null,
              "execution_start_time": "2024-03-03T16:04:11.3114147Z",
              "execution_finish_time": "2024-03-03T16:04:12.4011348Z",
              "spark_jobs": null,
              "parent_msg_id": "24246075-a90a-4fef-b433-7c93f1af5263"
            },
            "text/plain": "StatementMeta(NEWPOOL, 1, 7, Finished, Available)"
          },
          "metadata": {}
        },
        {
          "output_type": "display_data",
          "data": {
            "text/plain": "<Figure size 640x480 with 1 Axes>",
            "image/png": "[encoded data removed]"
          },
          "metadata": {}
        }
      ],
      "execution_count": 6,
      "metadata": {}
    },
    {
      "cell_type": "code",
      "source": [
        "# How many passengers tipped by various amounts \n",
        "ax2 = sampled_taxi_pd_df.boxplot(column=['tipAmount'], by=['passengerCount'])\n",
        "ax2.set_title('Tip amount by Passenger count')\n",
        "ax2.set_xlabel('Passenger count')\n",
        "ax2.set_ylabel('Tip Amount ($)')\n",
        "ax2.set_ylim(0,30)\n",
        "plt.suptitle('')\n",
        "plt.show()"
      ],
      "outputs": [
        {
          "output_type": "display_data",
          "data": {
            "application/vnd.livy.statement-meta+json": {
              "spark_pool": "NEWPOOL",
              "session_id": "1",
              "statement_id": 8,
              "state": "finished",
              "livy_statement_state": "available",
              "queued_time": "2024-03-03T16:04:04.6130448Z",
              "session_start_time": null,
              "execution_start_time": "2024-03-03T16:04:12.5505262Z",
              "execution_finish_time": "2024-03-03T16:04:13.1152638Z",
              "spark_jobs": null,
              "parent_msg_id": "f805b7bf-4512-45ee-b067-f008d0af2d72"
            },
            "text/plain": "StatementMeta(NEWPOOL, 1, 8, Finished, Available)"
          },
          "metadata": {}
        },
        {
          "output_type": "display_data",
          "data": {
            "text/plain": "<Figure size 640x480 with 1 Axes>",
            "image/png": "[encoded data removed]"
          },
          "metadata": {}
        }
      ],
      "execution_count": 7,
      "metadata": {}
    },
    {
      "cell_type": "code",
      "source": [
        "# Look at the relationship between fare and tip amounts\n",
        "\n",
        "ax = sampled_taxi_pd_df.plot(kind='scatter', x= 'fareAmount', y = 'tipAmount', c='blue', alpha = 0.10, s=2.5*(sampled_taxi_pd_df['passengerCount']))\n",
        "ax.set_title('Tip amount by Fare amount')\n",
        "ax.set_xlabel('Fare Amount ($)')\n",
        "ax.set_ylabel('Tip Amount ($)')\n",
        "plt.axis([-2, 80, -2, 20])\n",
        "plt.suptitle('')\n",
        "plt.show()"
      ],
      "outputs": [
        {
          "output_type": "display_data",
          "data": {
            "application/vnd.livy.statement-meta+json": {
              "spark_pool": "NEWPOOL",
              "session_id": "1",
              "statement_id": 9,
              "state": "finished",
              "livy_statement_state": "available",
              "queued_time": "2024-03-03T16:04:17.0056936Z",
              "session_start_time": null,
              "execution_start_time": "2024-03-03T16:04:17.1393281Z",
              "execution_finish_time": "2024-03-03T16:04:17.7145493Z",
              "spark_jobs": null,
              "parent_msg_id": "8f5f6410-2894-4a22-aa4c-552c3c0481ca"
            },
            "text/plain": "StatementMeta(NEWPOOL, 1, 9, Finished, Available)"
          },
          "metadata": {}
        },
        {
          "output_type": "display_data",
          "data": {
            "text/plain": "<Figure size 640x480 with 1 Axes>",
            "image/png": "[encoded data removed]"
          },
          "metadata": {}
        }
      ],
      "execution_count": 8,
      "metadata": {}
    },
    {
      "attachments": {},
      "cell_type": "markdown",
      "source": [
        "# Other tasks\n"
      ],
      "metadata": {}
    },
    {
      "attachments": {},
      "cell_type": "markdown",
      "source": [
        "#### Show the data inside the dataframe\n"
      ],
      "metadata": {}
    },
    {
      "cell_type": "code",
      "source": [
        "print(df)"
      ],
      "outputs": [
        {
          "output_type": "display_data",
          "data": {
            "application/vnd.livy.statement-meta+json": {
              "spark_pool": "NEWPOOL",
              "session_id": "1",
              "statement_id": 10,
              "state": "finished",
              "livy_statement_state": "available",
              "queued_time": "2024-03-03T16:04:20.3986217Z",
              "session_start_time": null,
              "execution_start_time": "2024-03-03T16:04:20.5451008Z",
              "execution_finish_time": "2024-03-03T16:04:20.7046189Z",
              "spark_jobs": null,
              "parent_msg_id": "e6e4659d-ca1a-483b-a1ff-4db48dc935f6"
            },
            "text/plain": "StatementMeta(NEWPOOL, 1, 10, Finished, Available)"
          },
          "metadata": {}
        },
        {
          "output_type": "stream",
          "name": "stdout",
          "text": [
            "DataFrame[vendorID: string, tpepPickupDateTime: timestamp, tpepDropoffDateTime: timestamp, passengerCount: int, tripDistance: double, puLocationId: string, doLocationId: string, startLon: double, startLat: double, endLon: double, endLat: double, rateCodeId: int, storeAndFwdFlag: string, paymentType: string, fareAmount: double, extra: double, mtaTax: double, improvementSurcharge: string, tipAmount: double, tollsAmount: double, totalAmount: double, puYear: int, puMonth: int]\n"
          ]
        }
      ],
      "execution_count": 9,
      "metadata": {
        "jupyter": {
          "source_hidden": false,
          "outputs_hidden": false
        },
        "nteract": {
          "transient": {
            "deleting": false
          }
        }
      }
    },
    {
      "attachments": {},
      "cell_type": "markdown",
      "source": [
        "#### Generate a dataframe called 'filtered_df2' with variables 'vendorID', 'passengerCount', 'tripDistance','fareAmount', 'tipAmount', 'tipped' where tipAmount and tripDistance are greater than or equal to 0 and fareAmount greater than or equal to 1. Moreover, tipped is an extra column that has a value of 1 when tipAmount is greater than 0 and a value of 0 when it is not."
      ],
      "metadata": {}
    },
    {
      "cell_type": "code",
      "source": [
        "filtered_df2 = df.select('vendorID', 'passengerCount', 'tripDistance','fareAmount', 'tipAmount', when(col('tipAmount') > 0, 1).otherwise(0).alias('tipped'))\\\r\n",
        ".filter((df.fareAmount >= 1)\\\r\n",
        "                                & (df.tipAmount >= 0)\\\r\n",
        "                                & (df.tripDistance > 0))\r\n",
        "                    \r\n"
      ],
      "outputs": [
        {
          "output_type": "display_data",
          "data": {
            "application/vnd.livy.statement-meta+json": {
              "spark_pool": "NEWPOOL",
              "session_id": "1",
              "statement_id": 22,
              "state": "finished",
              "livy_statement_state": "available",
              "queued_time": "2024-03-03T16:13:48.6912351Z",
              "session_start_time": null,
              "execution_start_time": "2024-03-03T16:13:48.8245793Z",
              "execution_finish_time": "2024-03-03T16:13:48.9718051Z",
              "spark_jobs": null,
              "parent_msg_id": "29522d28-9372-48ff-95f1-58fe1d034725"
            },
            "text/plain": "StatementMeta(NEWPOOL, 1, 22, Finished, Available)"
          },
          "metadata": {}
        }
      ],
      "execution_count": 21,
      "metadata": {
        "jupyter": {
          "source_hidden": false,
          "outputs_hidden": false
        },
        "nteract": {
          "transient": {
            "deleting": false
          }
        }
      }
    },
    {
      "cell_type": "code",
      "source": [
        "display(filtered_df2)\r\n",
        "filtered_df2.createOrReplaceTempView(\"taxes_dataset2\") # Create temporal data to use with SQL or other languages"
      ],
      "outputs": [
        {
          "output_type": "display_data",
          "data": {
            "application/vnd.livy.statement-meta+json": {
              "spark_pool": "NEWPOOL",
              "session_id": "1",
              "statement_id": 24,
              "state": "finished",
              "livy_statement_state": "available",
              "queued_time": "2024-03-03T16:17:38.7991007Z",
              "session_start_time": null,
              "execution_start_time": "2024-03-03T16:17:38.9221458Z",
              "execution_finish_time": "2024-03-03T16:17:41.7663054Z",
              "spark_jobs": null,
              "parent_msg_id": "90496ebc-3dc4-4c26-9a39-ba3d8d308610"
            },
            "text/plain": "StatementMeta(NEWPOOL, 1, 24, Finished, Available)"
          },
          "metadata": {}
        },
        {
          "output_type": "display_data",
          "data": {
            "application/vnd.synapse.widget-view+json": {
              "widget_id": "1163296f-6937-4505-a493-5c08011887b6",
              "widget_type": "Synapse.DataFrame"
            },
            "text/plain": "SynapseWidget(Synapse.DataFrame, 1163296f-6937-4505-a493-5c08011887b6)"
          },
          "metadata": {}
        }
      ],
      "execution_count": 23,
      "metadata": {
        "jupyter": {
          "source_hidden": false,
          "outputs_hidden": false
        },
        "nteract": {
          "transient": {
            "deleting": false
          }
        },
        "collapsed": false
      }
    },
    {
      "attachments": {},
      "cell_type": "markdown",
      "source": [
        "#### Calculate and generate an avg. fareAmount vs vendorID plot."
      ],
      "metadata": {}
    },
    {
      "cell_type": "code",
      "source": [
        "%%sql\r\n",
        "\r\n",
        "SELECT \r\n",
        "    vendorID\r\n",
        "    , AVG(fareAmount) as fareAmount\r\n",
        "FROM taxes_dataset2 \r\n",
        "GROUP BY vendorID\r\n",
        "ORDER BY vendorID"
      ],
      "outputs": [
        {
          "output_type": "display_data",
          "data": {
            "application/vnd.livy.statement-meta+json": {
              "spark_pool": "NEWPOOL",
              "session_id": "1",
              "statement_id": 27,
              "state": "finished",
              "livy_statement_state": "available",
              "queued_time": "2024-03-03T16:19:31.3831382Z",
              "session_start_time": null,
              "execution_start_time": "2024-03-03T16:19:31.5031181Z",
              "execution_finish_time": "2024-03-03T16:19:41.9258193Z",
              "spark_jobs": null,
              "parent_msg_id": "bb3174c3-6411-430d-9a9d-066c979b0e7f"
            },
            "text/plain": "StatementMeta(NEWPOOL, 1, 27, Finished, Available)"
          },
          "metadata": {}
        },
        {
          "output_type": "execute_result",
          "execution_count": 26,
          "data": {
            "application/vnd.synapse.sparksql-result+json": {
              "schema": {
                "type": "struct",
                "fields": [
                  {
                    "name": "vendorID",
                    "type": "string",
                    "nullable": true,
                    "metadata": {}
                  },
                  {
                    "name": "fareAmount",
                    "type": "double",
                    "nullable": true,
                    "metadata": {}
                  }
                ]
              },
              "data": [
                [
                  "1",
                  12.964108906100432
                ],
                [
                  "2",
                  13.527381008323742
                ],
                [
                  "4",
                  15.010350318471337
                ]
              ]
            },
            "text/plain": "<Spark SQL result set with 3 rows and 2 fields>"
          },
          "metadata": {}
        }
      ],
      "execution_count": 26,
      "metadata": {
        "jupyter": {
          "source_hidden": false,
          "outputs_hidden": false
        },
        "nteract": {
          "transient": {
            "deleting": false
          }
        },
        "microsoft": {
          "language": "sparksql"
        },
        "collapsed": false
      }
    },
    {
      "attachments": {},
      "cell_type": "markdown",
      "source": [
        "#### Generate a boxplot graph of passengerCount vs fareAmount\n"
      ],
      "metadata": {}
    },
    {
      "cell_type": "code",
      "source": [
        "ax = sns.boxplot(x=\"passengerCount\", y=\"fareAmount\",data=sampled_taxi_pd_df, showfliers = False)\r\n",
        "ax.set_title('passengerCount vs fareAmount')\r\n",
        "ax.set_xlabel('passengerCount')\r\n",
        "ax.set_ylabel('fareAmount ($)')\r\n",
        "plt.show()"
      ],
      "outputs": [
        {
          "output_type": "display_data",
          "data": {
            "application/vnd.livy.statement-meta+json": {
              "spark_pool": "NEWPOOL",
              "session_id": "1",
              "statement_id": 29,
              "state": "finished",
              "livy_statement_state": "available",
              "queued_time": "2024-03-03T16:24:31.4532406Z",
              "session_start_time": null,
              "execution_start_time": "2024-03-03T16:24:31.57671Z",
              "execution_finish_time": "2024-03-03T16:24:32.1070508Z",
              "spark_jobs": null,
              "parent_msg_id": "c6f68bec-f636-4a0f-bb4b-10f1ee308d8b"
            },
            "text/plain": "StatementMeta(NEWPOOL, 1, 29, Finished, Available)"
          },
          "metadata": {}
        },
        {
          "output_type": "display_data",
          "data": {
            "text/plain": "<Figure size 640x480 with 1 Axes>",
            "image/png": "[encoded data removed]"
          },
          "metadata": {}
        }
      ],
      "execution_count": 28,
      "metadata": {
        "jupyter": {
          "source_hidden": false,
          "outputs_hidden": false
        },
        "nteract": {
          "transient": {
            "deleting": false
          }
        }
      }
    },
    {
      "attachments": {},
      "cell_type": "markdown",
      "source": [
        "#### Generate a seaborn heatmap graph with the sampled_taxi_pd_df dataframe. You can find more information at https://seaborn.pydata.org/generated/seaborn.heatmap.html."
      ],
      "metadata": {}
    },
    {
      "cell_type": "code",
      "source": [
        "print(sampled_taxi_pd_df)"
      ],
      "outputs": [
        {
          "output_type": "display_data",
          "data": {
            "application/vnd.livy.statement-meta+json": {
              "spark_pool": "NEWPOOL",
              "session_id": "1",
              "statement_id": 90,
              "state": "finished",
              "livy_statement_state": "available",
              "queued_time": "2024-03-03T16:45:19.5559335Z",
              "session_start_time": null,
              "execution_start_time": "2024-03-03T16:45:19.6921137Z",
              "execution_finish_time": "2024-03-03T16:45:19.8499962Z",
              "spark_jobs": null,
              "parent_msg_id": "5fe83413-d846-405f-b019-8ec72f9e7678"
            },
            "text/plain": "StatementMeta(NEWPOOL, 1, 90, Finished, Available)"
          },
          "metadata": {}
        },
        {
          "output_type": "stream",
          "name": "stdout",
          "text": [
            "      vendorID  passengerCount  tripDistance paymentType  fareAmount  \\\n0            2               1          1.15           1         7.5   \n1            2               1          2.51           1        14.5   \n2            2               1         20.26           1        52.0   \n3            1               1          2.60           1        12.0   \n4            2               5         12.48           1        40.0   \n...        ...             ...           ...         ...         ...   \n10535        2               1          0.62           2         4.5   \n10536        2               5          0.90           2         7.5   \n10537        2               2          0.53           1         5.0   \n10538        1               1          7.10           1        26.0   \n10539        2               1          1.30           2         9.5   \n\n       tipAmount hour_of_day  day_of_week  day_of_month  \n0           1.00          02            1             6  \n1           2.00          09            4            23  \n2          11.71          03            1             6  \n3           2.55          03            1             6  \n4           9.31          07            4            23  \n...          ...         ...          ...           ...  \n10535       0.00          01            2             4  \n10536       0.00          09            2             4  \n10537       1.16          11            2             4  \n10538       6.95          04            2             4  \n10539       0.00          02            2             4  \n\n[10540 rows x 9 columns]\n"
          ]
        }
      ],
      "execution_count": 89,
      "metadata": {
        "jupyter": {
          "source_hidden": false,
          "outputs_hidden": false
        },
        "nteract": {
          "transient": {
            "deleting": false
          }
        }
      }
    },
    {
      "cell_type": "code",
      "source": [
        "array2d = sampled_taxi_pd_df.apply(pd.to_numeric)\r\n",
        "print(array2d)\r\n",
        "sns.heatmap(array2d, fmt=\"d\")"
      ],
      "outputs": [
        {
          "output_type": "display_data",
          "data": {
            "application/vnd.livy.statement-meta+json": {
              "spark_pool": "NEWPOOL",
              "session_id": "1",
              "statement_id": 93,
              "state": "finished",
              "livy_statement_state": "available",
              "queued_time": "2024-03-03T16:45:52.5480963Z",
              "session_start_time": null,
              "execution_start_time": "2024-03-03T16:45:52.6765171Z",
              "execution_finish_time": "2024-03-03T16:45:53.7894738Z",
              "spark_jobs": null,
              "parent_msg_id": "99bdb18e-90a0-4822-ac25-fa7b5725ad0c"
            },
            "text/plain": "StatementMeta(NEWPOOL, 1, 93, Finished, Available)"
          },
          "metadata": {}
        },
        {
          "output_type": "stream",
          "name": "stdout",
          "text": [
            "       vendorID  passengerCount  tripDistance  paymentType  fareAmount  \\\n0             2               1          1.15            1         7.5   \n1             2               1          2.51            1        14.5   \n2             2               1         20.26            1        52.0   \n3             1               1          2.60            1        12.0   \n4             2               5         12.48            1        40.0   \n...         ...             ...           ...          ...         ...   \n10535         2               1          0.62            2         4.5   \n10536         2               5          0.90            2         7.5   \n10537         2               2          0.53            1         5.0   \n10538         1               1          7.10            1        26.0   \n10539         2               1          1.30            2         9.5   \n\n       tipAmount  hour_of_day  day_of_week  day_of_month  \n0           1.00            2            1             6  \n1           2.00            9            4            23  \n2          11.71            3            1             6  \n3           2.55            3            1             6  \n4           9.31            7            4            23  \n...          ...          ...          ...           ...  \n10535       0.00            1            2             4  \n10536       0.00            9            2             4  \n10537       1.16           11            2             4  \n10538       6.95            4            2             4  \n10539       0.00            2            2             4  \n\n[10540 rows x 9 columns]\n"
          ]
        },
        {
          "output_type": "execute_result",
          "execution_count": 179,
          "data": {
            "text/plain": "<AxesSubplot: >"
          },
          "metadata": {}
        },
        {
          "output_type": "display_data",
          "data": {
            "text/plain": "<Figure size 640x480 with 2 Axes>",
            "image/png": "[encoded data removed]"
          },
          "metadata": {}
        }
      ],
      "execution_count": 92,
      "metadata": {
        "jupyter": {
          "source_hidden": false,
          "outputs_hidden": false
        },
        "nteract": {
          "transient": {
            "deleting": false
          }
        },
        "collapsed": false
      }
    },
    {
      "attachments": {},
      "cell_type": "markdown",
      "source": [
        "#### Generate a seaborn pairplot graph with the filtered_df2 dataframe comparing the 'tipped' column. You can find more information at https://seaborn.pydata.org/generated/seaborn.pairplot.html."
      ],
      "metadata": {}
    },
    {
      "cell_type": "code",
      "source": [
        "sns.pairplot(filtered_df2.toPandas(), hue=\"tipped\")"
      ],
      "outputs": [
        {
          "output_type": "display_data",
          "data": {
            "application/vnd.livy.statement-meta+json": {
              "spark_pool": "NEWPOOL",
              "session_id": "1",
              "statement_id": 95,
              "state": "finished",
              "livy_statement_state": "available",
              "queued_time": "2024-03-03T16:47:28.0968468Z",
              "session_start_time": null,
              "execution_start_time": "2024-03-03T16:47:28.257482Z",
              "execution_finish_time": "2024-03-03T16:56:34.0567829Z",
              "spark_jobs": null,
              "parent_msg_id": "8d03df1a-2cc1-4bcf-8562-b264cdfa9a8d"
            },
            "text/plain": "StatementMeta(NEWPOOL, 1, 95, Finished, Available)"
          },
          "metadata": {}
        },
        {
          "output_type": "stream",
          "name": "stderr",
          "text": [
            "/home/trusted-service-user/cluster-env/env/lib/python3.10/site-packages/seaborn/distributions.py:306: UserWarning: Dataset has 0 variance; skipping density estimate.\n  warnings.warn(msg, UserWarning)\n"
          ]
        }
      ],
      "execution_count": 94,
      "metadata": {}
    }
  ],
  "metadata": {
    "kernelspec": {
      "name": "synapse_pyspark",
      "language": "Python",
      "display_name": "Synapse PySpark"
    },
    "language_info": {
      "name": "python"
    },
    "kernel_info": {
      "name": "synapse_pyspark"
    },
    "description": null,
    "save_output": true,
    "synapse_widget": {
      "version": "0.1",
      "state": {
        "1163296f-6937-4505-a493-5c08011887b6": {
          "type": "Synapse.DataFrame",
          "sync_state": {
            "table": {
              "rows": [
                {
                  "0": "2",
                  "1": "3",
                  "2": "0.82",
                  "3": "6.0",
                  "4": "0.0",
                  "5": "0"
                },
                {
                  "0": "2",
                  "1": "1",
                  "2": "1.69",
                  "3": "11.5",
                  "4": "3.08",
                  "5": "1"
                },
                {
                  "0": "2",
                  "1": "2",
                  "2": "6.64",
                  "3": "19.5",
                  "4": "0.0",
                  "5": "0"
                },
                {
                  "0": "2",
                  "1": "1",
                  "2": "0.61",
                  "3": "6.0",
                  "4": "1.0",
                  "5": "1"
                },
                {
                  "0": "2",
                  "1": "2",
                  "2": "0.48",
                  "3": "3.5",
                  "4": "0.0",
                  "5": "0"
                },
                {
                  "0": "2",
                  "1": "5",
                  "2": "1.77",
                  "3": "10.5",
                  "4": "0.0",
                  "5": "0"
                },
                {
                  "0": "2",
                  "1": "1",
                  "2": "2.3",
                  "3": "16.5",
                  "4": "0.0",
                  "5": "0"
                },
                {
                  "0": "1",
                  "1": "1",
                  "2": "12.4",
                  "3": "45.0",
                  "4": "9.15",
                  "5": "1"
                },
                {
                  "0": "2",
                  "1": "1",
                  "2": "6.6",
                  "3": "20.0",
                  "4": "4.16",
                  "5": "1"
                },
                {
                  "0": "2",
                  "1": "4",
                  "2": "0.54",
                  "3": "5.0",
                  "4": "1.0",
                  "5": "1"
                },
                {
                  "0": "2",
                  "1": "2",
                  "2": "3.71",
                  "3": "14.0",
                  "4": "0.0",
                  "5": "0"
                },
                {
                  "0": "2",
                  "1": "1",
                  "2": "4.74",
                  "3": "21.5",
                  "4": "2.0",
                  "5": "1"
                },
                {
                  "0": "1",
                  "1": "1",
                  "2": "7.8",
                  "3": "27.5",
                  "4": "4.0",
                  "5": "1"
                },
                {
                  "0": "1",
                  "1": "1",
                  "2": "17.8",
                  "3": "52.0",
                  "4": "0.0",
                  "5": "0"
                },
                {
                  "0": "1",
                  "1": "1",
                  "2": "1.4",
                  "3": "9.0",
                  "4": "0.0",
                  "5": "0"
                },
                {
                  "0": "2",
                  "1": "1",
                  "2": "1.15",
                  "3": "7.5",
                  "4": "1.0",
                  "5": "1"
                },
                {
                  "0": "1",
                  "1": "1",
                  "2": "0.4",
                  "3": "3.5",
                  "4": "0.0",
                  "5": "0"
                },
                {
                  "0": "2",
                  "1": "1",
                  "2": "1.56",
                  "3": "6.5",
                  "4": "1.46",
                  "5": "1"
                },
                {
                  "0": "2",
                  "1": "1",
                  "2": "1.88",
                  "3": "11.0",
                  "4": "0.0",
                  "5": "0"
                },
                {
                  "0": "2",
                  "1": "1",
                  "2": "9.27",
                  "3": "30.0",
                  "4": "5.54",
                  "5": "1"
                },
                {
                  "0": "2",
                  "1": "1",
                  "2": "1.43",
                  "3": "10.0",
                  "4": "2.16",
                  "5": "1"
                },
                {
                  "0": "2",
                  "1": "2",
                  "2": "9.58",
                  "3": "28.5",
                  "4": "7.01",
                  "5": "1"
                },
                {
                  "0": "1",
                  "1": "1",
                  "2": "1.3",
                  "3": "11.5",
                  "4": "2.45",
                  "5": "1"
                },
                {
                  "0": "2",
                  "1": "1",
                  "2": "2.03",
                  "3": "11.5",
                  "4": "0.0",
                  "5": "0"
                },
                {
                  "0": "1",
                  "1": "1",
                  "2": "2.2",
                  "3": "11.5",
                  "4": "2.45",
                  "5": "1"
                },
                {
                  "0": "2",
                  "1": "1",
                  "2": "3.21",
                  "3": "12.0",
                  "4": "1.5",
                  "5": "1"
                },
                {
                  "0": "2",
                  "1": "1",
                  "2": "1.05",
                  "3": "6.5",
                  "4": "1.95",
                  "5": "1"
                },
                {
                  "0": "2",
                  "1": "2",
                  "2": "1.44",
                  "3": "7.5",
                  "4": "1.7",
                  "5": "1"
                },
                {
                  "0": "1",
                  "1": "1",
                  "2": "1.7",
                  "3": "8.5",
                  "4": "1.85",
                  "5": "1"
                },
                {
                  "0": "1",
                  "1": "1",
                  "2": "0.7",
                  "3": "5.0",
                  "4": "1.0",
                  "5": "1"
                },
                {
                  "0": "1",
                  "1": "1",
                  "2": "2.2",
                  "3": "10.5",
                  "4": "0.0",
                  "5": "0"
                },
                {
                  "0": "2",
                  "1": "1",
                  "2": "4.64",
                  "3": "17.5",
                  "4": "3.66",
                  "5": "1"
                },
                {
                  "0": "2",
                  "1": "2",
                  "2": "17.26",
                  "3": "52.0",
                  "4": "11.71",
                  "5": "1"
                },
                {
                  "0": "2",
                  "1": "1",
                  "2": "7.18",
                  "3": "23.5",
                  "4": "4.86",
                  "5": "1"
                },
                {
                  "0": "1",
                  "1": "1",
                  "2": "2.3",
                  "3": "11.5",
                  "4": "2.45",
                  "5": "1"
                },
                {
                  "0": "2",
                  "1": "1",
                  "2": "0.84",
                  "3": "5.0",
                  "4": "1.16",
                  "5": "1"
                },
                {
                  "0": "2",
                  "1": "1",
                  "2": "0.92",
                  "3": "5.5",
                  "4": "0.0",
                  "5": "0"
                },
                {
                  "0": "2",
                  "1": "3",
                  "2": "17.51",
                  "3": "52.0",
                  "4": "10.0",
                  "5": "1"
                },
                {
                  "0": "1",
                  "1": "1",
                  "2": "2.0",
                  "3": "14.5",
                  "4": "3.05",
                  "5": "1"
                },
                {
                  "0": "2",
                  "1": "1",
                  "2": "1.0",
                  "3": "6.0",
                  "4": "0.0",
                  "5": "0"
                },
                {
                  "0": "2",
                  "1": "1",
                  "2": "1.1",
                  "3": "7.5",
                  "4": "1.24",
                  "5": "1"
                },
                {
                  "0": "1",
                  "1": "1",
                  "2": "1.5",
                  "3": "7.0",
                  "4": "0.0",
                  "5": "0"
                },
                {
                  "0": "2",
                  "1": "1",
                  "2": "2.03",
                  "3": "15.5",
                  "4": "1.7",
                  "5": "1"
                },
                {
                  "0": "2",
                  "1": "6",
                  "2": "2.34",
                  "3": "10.0",
                  "4": "1.2",
                  "5": "1"
                },
                {
                  "0": "1",
                  "1": "1",
                  "2": "6.7",
                  "3": "25.0",
                  "4": "0.0",
                  "5": "0"
                },
                {
                  "0": "2",
                  "1": "1",
                  "2": "2.47",
                  "3": "12.0",
                  "4": "2.56",
                  "5": "1"
                },
                {
                  "0": "2",
                  "1": "1",
                  "2": "0.81",
                  "3": "5.0",
                  "4": "1.26",
                  "5": "1"
                },
                {
                  "0": "1",
                  "1": "1",
                  "2": "2.4",
                  "3": "11.0",
                  "4": "2.35",
                  "5": "1"
                },
                {
                  "0": "2",
                  "1": "1",
                  "2": "0.02",
                  "3": "2.5",
                  "4": "0.0",
                  "5": "0"
                },
                {
                  "0": "1",
                  "1": "1",
                  "2": "5.2",
                  "3": "18.0",
                  "4": "3.85",
                  "5": "1"
                },
                {
                  "0": "2",
                  "1": "2",
                  "2": "4.52",
                  "3": "19.5",
                  "4": "3.0",
                  "5": "1"
                },
                {
                  "0": "1",
                  "1": "4",
                  "2": "0.7",
                  "3": "4.0",
                  "4": "0.0",
                  "5": "0"
                },
                {
                  "0": "2",
                  "1": "2",
                  "2": "0.89",
                  "3": "5.5",
                  "4": "1.26",
                  "5": "1"
                },
                {
                  "0": "1",
                  "1": "1",
                  "2": "3.9",
                  "3": "16.0",
                  "4": "3.46",
                  "5": "1"
                },
                {
                  "0": "2",
                  "1": "1",
                  "2": "1.07",
                  "3": "16.5",
                  "4": "0.0",
                  "5": "0"
                },
                {
                  "0": "2",
                  "1": "3",
                  "2": "1.21",
                  "3": "7.0",
                  "4": "1.95",
                  "5": "1"
                },
                {
                  "0": "2",
                  "1": "1",
                  "2": "0.8",
                  "3": "5.5",
                  "4": "0.7",
                  "5": "1"
                },
                {
                  "0": "1",
                  "1": "1",
                  "2": "1.5",
                  "3": "8.0",
                  "4": "2.2",
                  "5": "1"
                },
                {
                  "0": "2",
                  "1": "1",
                  "2": "2.12",
                  "3": "9.5",
                  "4": "0.0",
                  "5": "0"
                },
                {
                  "0": "2",
                  "1": "1",
                  "2": "20.97",
                  "3": "52.0",
                  "4": "10.56",
                  "5": "1"
                },
                {
                  "0": "2",
                  "1": "1",
                  "2": "0.76",
                  "3": "4.0",
                  "4": "0.0",
                  "5": "0"
                },
                {
                  "0": "2",
                  "1": "1",
                  "2": "1.24",
                  "3": "7.5",
                  "4": "1.5",
                  "5": "1"
                },
                {
                  "0": "2",
                  "1": "1",
                  "2": "9.69",
                  "3": "28.5",
                  "4": "0.0",
                  "5": "0"
                },
                {
                  "0": "2",
                  "1": "1",
                  "2": "1.42",
                  "3": "8.0",
                  "4": "1.0",
                  "5": "1"
                },
                {
                  "0": "2",
                  "1": "1",
                  "2": "0.52",
                  "3": "6.0",
                  "4": "1.36",
                  "5": "1"
                },
                {
                  "0": "1",
                  "1": "1",
                  "2": "1.8",
                  "3": "8.5",
                  "4": "1.85",
                  "5": "1"
                },
                {
                  "0": "1",
                  "1": "1",
                  "2": "1.9",
                  "3": "15.0",
                  "4": "0.0",
                  "5": "0"
                },
                {
                  "0": "2",
                  "1": "1",
                  "2": "1.45",
                  "3": "7.5",
                  "4": "0.0",
                  "5": "0"
                },
                {
                  "0": "2",
                  "1": "1",
                  "2": "2.6",
                  "3": "11.5",
                  "4": "1.84",
                  "5": "1"
                },
                {
                  "0": "1",
                  "1": "1",
                  "2": "17.2",
                  "3": "52.0",
                  "4": "11.7",
                  "5": "1"
                },
                {
                  "0": "2",
                  "1": "1",
                  "2": "2.2",
                  "3": "14.0",
                  "4": "2.96",
                  "5": "1"
                },
                {
                  "0": "2",
                  "1": "1",
                  "2": "1.87",
                  "3": "10.0",
                  "4": "0.0",
                  "5": "0"
                },
                {
                  "0": "2",
                  "1": "1",
                  "2": "8.65",
                  "3": "30.5",
                  "4": "3.2",
                  "5": "1"
                },
                {
                  "0": "1",
                  "1": "1",
                  "2": "2.3",
                  "3": "12.0",
                  "4": "2.55",
                  "5": "1"
                },
                {
                  "0": "2",
                  "1": "1",
                  "2": "0.52",
                  "3": "5.5",
                  "4": "0.0",
                  "5": "0"
                },
                {
                  "0": "1",
                  "1": "1",
                  "2": "7.6",
                  "3": "24.5",
                  "4": "6.2",
                  "5": "1"
                },
                {
                  "0": "2",
                  "1": "1",
                  "2": "1.68",
                  "3": "7.5",
                  "4": "0.0",
                  "5": "0"
                },
                {
                  "0": "1",
                  "1": "1",
                  "2": "4.0",
                  "3": "15.5",
                  "4": "2.45",
                  "5": "1"
                },
                {
                  "0": "1",
                  "1": "2",
                  "2": "2.3",
                  "3": "16.5",
                  "4": "0.0",
                  "5": "0"
                },
                {
                  "0": "2",
                  "1": "1",
                  "2": "19.78",
                  "3": "52.0",
                  "4": "11.71",
                  "5": "1"
                },
                {
                  "0": "1",
                  "1": "1",
                  "2": "0.6",
                  "3": "4.5",
                  "4": "1.05",
                  "5": "1"
                },
                {
                  "0": "2",
                  "1": "2",
                  "2": "17.52",
                  "3": "52.0",
                  "4": "0.0",
                  "5": "0"
                },
                {
                  "0": "2",
                  "1": "1",
                  "2": "1.43",
                  "3": "13.0",
                  "4": "0.0",
                  "5": "0"
                },
                {
                  "0": "1",
                  "1": "1",
                  "2": "1.2",
                  "3": "7.0",
                  "4": "1.55",
                  "5": "1"
                },
                {
                  "0": "1",
                  "1": "1",
                  "2": "2.3",
                  "3": "11.5",
                  "4": "2.0",
                  "5": "1"
                },
                {
                  "0": "2",
                  "1": "5",
                  "2": "6.38",
                  "3": "20.5",
                  "4": "3.2",
                  "5": "1"
                },
                {
                  "0": "2",
                  "1": "3",
                  "2": "19.46",
                  "3": "52.0",
                  "4": "7.44",
                  "5": "1"
                },
                {
                  "0": "2",
                  "1": "1",
                  "2": "1.34",
                  "3": "9.5",
                  "4": "2.0",
                  "5": "1"
                },
                {
                  "0": "1",
                  "1": "1",
                  "2": "0.9",
                  "3": "6.5",
                  "4": "1.45",
                  "5": "1"
                },
                {
                  "0": "2",
                  "1": "5",
                  "2": "3.67",
                  "3": "16.5",
                  "4": "3.46",
                  "5": "1"
                },
                {
                  "0": "1",
                  "1": "1",
                  "2": "10.2",
                  "3": "50.0",
                  "4": "10.15",
                  "5": "1"
                },
                {
                  "0": "2",
                  "1": "1",
                  "2": "1.92",
                  "3": "9.5",
                  "4": "1.5",
                  "5": "1"
                },
                {
                  "0": "2",
                  "1": "5",
                  "2": "10.93",
                  "3": "33.5",
                  "4": "6.86",
                  "5": "1"
                },
                {
                  "0": "1",
                  "1": "2",
                  "2": "1.4",
                  "3": "7.0",
                  "4": "0.0",
                  "5": "0"
                },
                {
                  "0": "1",
                  "1": "1",
                  "2": "0.4",
                  "3": "3.5",
                  "4": "0.7",
                  "5": "1"
                },
                {
                  "0": "1",
                  "1": "1",
                  "2": "0.7",
                  "3": "6.0",
                  "4": "0.0",
                  "5": "0"
                },
                {
                  "0": "2",
                  "1": "1",
                  "2": "0.87",
                  "3": "5.5",
                  "4": "0.0",
                  "5": "0"
                },
                {
                  "0": "1",
                  "1": "1",
                  "2": "1.1",
                  "3": "7.0",
                  "4": "0.0",
                  "5": "0"
                },
                {
                  "0": "2",
                  "1": "1",
                  "2": "2.37",
                  "3": "14.5",
                  "4": "0.0",
                  "5": "0"
                },
                {
                  "0": "1",
                  "1": "1",
                  "2": "1.2",
                  "3": "7.0",
                  "4": "0.0",
                  "5": "0"
                },
                {
                  "0": "2",
                  "1": "1",
                  "2": "1.61",
                  "3": "10.5",
                  "4": "2.26",
                  "5": "1"
                },
                {
                  "0": "1",
                  "1": "2",
                  "2": "1.7",
                  "3": "7.5",
                  "4": "2.49",
                  "5": "1"
                },
                {
                  "0": "1",
                  "1": "1",
                  "2": "7.3",
                  "3": "26.5",
                  "4": "6.8",
                  "5": "1"
                },
                {
                  "0": "2",
                  "1": "2",
                  "2": "0.99",
                  "3": "5.0",
                  "4": "1.16",
                  "5": "1"
                },
                {
                  "0": "1",
                  "1": "1",
                  "2": "0.6",
                  "3": "6.5",
                  "4": "0.0",
                  "5": "0"
                },
                {
                  "0": "2",
                  "1": "2",
                  "2": "1.47",
                  "3": "7.0",
                  "4": "1.17",
                  "5": "1"
                },
                {
                  "0": "1",
                  "1": "1",
                  "2": "0.6",
                  "3": "5.5",
                  "4": "0.0",
                  "5": "0"
                },
                {
                  "0": "2",
                  "1": "5",
                  "2": "0.75",
                  "3": "5.5",
                  "4": "0.0",
                  "5": "0"
                },
                {
                  "0": "2",
                  "1": "2",
                  "2": "2.95",
                  "3": "18.0",
                  "4": "2.82",
                  "5": "1"
                },
                {
                  "0": "2",
                  "1": "1",
                  "2": "2.7",
                  "3": "10.5",
                  "4": "1.5",
                  "5": "1"
                },
                {
                  "0": "2",
                  "1": "1",
                  "2": "20.51",
                  "3": "52.0",
                  "4": "11.71",
                  "5": "1"
                },
                {
                  "0": "1",
                  "1": "1",
                  "2": "1.9",
                  "3": "8.0",
                  "4": "1.76",
                  "5": "1"
                },
                {
                  "0": "2",
                  "1": "1",
                  "2": "1.21",
                  "3": "8.5",
                  "4": "1.86",
                  "5": "1"
                },
                {
                  "0": "1",
                  "1": "1",
                  "2": "9.5",
                  "3": "29.0",
                  "4": "4.47",
                  "5": "1"
                },
                {
                  "0": "2",
                  "1": "4",
                  "2": "2.6",
                  "3": "13.0",
                  "4": "2.76",
                  "5": "1"
                },
                {
                  "0": "1",
                  "1": "2",
                  "2": "2.6",
                  "3": "12.0",
                  "4": "1.0",
                  "5": "1"
                },
                {
                  "0": "1",
                  "1": "1",
                  "2": "1.3",
                  "3": "7.5",
                  "4": "2.05",
                  "5": "1"
                },
                {
                  "0": "2",
                  "1": "1",
                  "2": "0.85",
                  "3": "5.5",
                  "4": "1.36",
                  "5": "1"
                },
                {
                  "0": "1",
                  "1": "2",
                  "2": "3.4",
                  "3": "25.5",
                  "4": "5.25",
                  "5": "1"
                },
                {
                  "0": "2",
                  "1": "1",
                  "2": "0.73",
                  "3": "4.5",
                  "4": "0.0",
                  "5": "0"
                },
                {
                  "0": "1",
                  "1": "1",
                  "2": "1.7",
                  "3": "13.5",
                  "4": "0.0",
                  "5": "0"
                },
                {
                  "0": "1",
                  "1": "1",
                  "2": "0.4",
                  "3": "3.5",
                  "4": "1.25",
                  "5": "1"
                },
                {
                  "0": "1",
                  "1": "1",
                  "2": "2.0",
                  "3": "9.5",
                  "4": "0.0",
                  "5": "0"
                },
                {
                  "0": "1",
                  "1": "1",
                  "2": "5.3",
                  "3": "21.5",
                  "4": "5.0",
                  "5": "1"
                },
                {
                  "0": "2",
                  "1": "5",
                  "2": "1.33",
                  "3": "7.5",
                  "4": "1.76",
                  "5": "1"
                },
                {
                  "0": "2",
                  "1": "1",
                  "2": "3.19",
                  "3": "11.5",
                  "4": "2.46",
                  "5": "1"
                },
                {
                  "0": "2",
                  "1": "1",
                  "2": "1.95",
                  "3": "12.0",
                  "4": "3.32",
                  "5": "1"
                },
                {
                  "0": "2",
                  "1": "2",
                  "2": "0.82",
                  "3": "5.0",
                  "4": "0.0",
                  "5": "0"
                },
                {
                  "0": "1",
                  "1": "3",
                  "2": "2.6",
                  "3": "11.0",
                  "4": "0.0",
                  "5": "0"
                },
                {
                  "0": "1",
                  "1": "1",
                  "2": "0.7",
                  "3": "5.5",
                  "4": "1.25",
                  "5": "1"
                },
                {
                  "0": "2",
                  "1": "1",
                  "2": "0.28",
                  "3": "3.5",
                  "4": "0.0",
                  "5": "0"
                },
                {
                  "0": "2",
                  "1": "1",
                  "2": "2.82",
                  "3": "10.5",
                  "4": "1.0",
                  "5": "1"
                },
                {
                  "0": "1",
                  "1": "1",
                  "2": "1.5",
                  "3": "7.0",
                  "4": "0.0",
                  "5": "0"
                },
                {
                  "0": "1",
                  "1": "1",
                  "2": "1.1",
                  "3": "6.0",
                  "4": "0.0",
                  "5": "0"
                },
                {
                  "0": "2",
                  "1": "2",
                  "2": "1.37",
                  "3": "9.5",
                  "4": "2.06",
                  "5": "1"
                },
                {
                  "0": "2",
                  "1": "5",
                  "2": "1.43",
                  "3": "6.0",
                  "4": "0.0",
                  "5": "0"
                },
                {
                  "0": "2",
                  "1": "1",
                  "2": "0.41",
                  "3": "4.0",
                  "4": "0.7",
                  "5": "1"
                },
                {
                  "0": "2",
                  "1": "1",
                  "2": "0.71",
                  "3": "5.5",
                  "4": "1.0",
                  "5": "1"
                },
                {
                  "0": "1",
                  "1": "1",
                  "2": "0.6",
                  "3": "8.0",
                  "4": "0.0",
                  "5": "0"
                },
                {
                  "0": "1",
                  "1": "1",
                  "2": "1.0",
                  "3": "6.5",
                  "4": "1.31",
                  "5": "1"
                },
                {
                  "0": "2",
                  "1": "1",
                  "2": "0.68",
                  "3": "11.0",
                  "4": "2.36",
                  "5": "1"
                },
                {
                  "0": "2",
                  "1": "1",
                  "2": "1.7",
                  "3": "10.0",
                  "4": "1.62",
                  "5": "1"
                },
                {
                  "0": "1",
                  "1": "2",
                  "2": "1.2",
                  "3": "5.5",
                  "4": "0.0",
                  "5": "0"
                },
                {
                  "0": "2",
                  "1": "1",
                  "2": "1.55",
                  "3": "8.0",
                  "4": "0.0",
                  "5": "0"
                },
                {
                  "0": "1",
                  "1": "1",
                  "2": "2.4",
                  "3": "13.0",
                  "4": "2.75",
                  "5": "1"
                },
                {
                  "0": "2",
                  "1": "1",
                  "2": "1.53",
                  "3": "7.5",
                  "4": "1.66",
                  "5": "1"
                },
                {
                  "0": "2",
                  "1": "2",
                  "2": "1.36",
                  "3": "10.5",
                  "4": "2.82",
                  "5": "1"
                },
                {
                  "0": "1",
                  "1": "1",
                  "2": "2.1",
                  "3": "9.0",
                  "4": "1.55",
                  "5": "1"
                },
                {
                  "0": "1",
                  "1": "1",
                  "2": "4.5",
                  "3": "18.0",
                  "4": "4.7",
                  "5": "1"
                },
                {
                  "0": "2",
                  "1": "2",
                  "2": "3.6",
                  "3": "16.5",
                  "4": "3.46",
                  "5": "1"
                },
                {
                  "0": "1",
                  "1": "1",
                  "2": "1.7",
                  "3": "8.5",
                  "4": "0.0",
                  "5": "0"
                },
                {
                  "0": "1",
                  "1": "1",
                  "2": "2.1",
                  "3": "14.5",
                  "4": "3.05",
                  "5": "1"
                },
                {
                  "0": "2",
                  "1": "1",
                  "2": "2.56",
                  "3": "12.5",
                  "4": "2.66",
                  "5": "1"
                },
                {
                  "0": "2",
                  "1": "1",
                  "2": "1.69",
                  "3": "8.0",
                  "4": "0.0",
                  "5": "0"
                },
                {
                  "0": "2",
                  "1": "1",
                  "2": "0.78",
                  "3": "5.0",
                  "4": "1.16",
                  "5": "1"
                },
                {
                  "0": "2",
                  "1": "1",
                  "2": "1.88",
                  "3": "8.5",
                  "4": "1.86",
                  "5": "1"
                },
                {
                  "0": "2",
                  "1": "1",
                  "2": "1.09",
                  "3": "6.0",
                  "4": "0.0",
                  "5": "0"
                },
                {
                  "0": "2",
                  "1": "1",
                  "2": "1.38",
                  "3": "6.0",
                  "4": "0.0",
                  "5": "0"
                },
                {
                  "0": "2",
                  "1": "1",
                  "2": "1.55",
                  "3": "6.5",
                  "4": "1.46",
                  "5": "1"
                },
                {
                  "0": "2",
                  "1": "1",
                  "2": "8.73",
                  "3": "26.0",
                  "4": "9.77",
                  "5": "1"
                },
                {
                  "0": "2",
                  "1": "1",
                  "2": "3.71",
                  "3": "14.5",
                  "4": "0.0",
                  "5": "0"
                },
                {
                  "0": "2",
                  "1": "6",
                  "2": "1.26",
                  "3": "6.0",
                  "4": "1.7",
                  "5": "1"
                },
                {
                  "0": "1",
                  "1": "1",
                  "2": "1.9",
                  "3": "11.0",
                  "4": "2.35",
                  "5": "1"
                },
                {
                  "0": "2",
                  "1": "1",
                  "2": "0.73",
                  "3": "6.0",
                  "4": "1.36",
                  "5": "1"
                },
                {
                  "0": "1",
                  "1": "1",
                  "2": "0.5",
                  "3": "4.5",
                  "4": "0.0",
                  "5": "0"
                },
                {
                  "0": "1",
                  "1": "1",
                  "2": "4.3",
                  "3": "16.0",
                  "4": "2.0",
                  "5": "1"
                },
                {
                  "0": "2",
                  "1": "1",
                  "2": "2.59",
                  "3": "12.0",
                  "4": "1.0",
                  "5": "1"
                },
                {
                  "0": "1",
                  "1": "1",
                  "2": "1.3",
                  "3": "12.0",
                  "4": "2.55",
                  "5": "1"
                },
                {
                  "0": "1",
                  "1": "1",
                  "2": "1.3",
                  "3": "6.0",
                  "4": "1.0",
                  "5": "1"
                },
                {
                  "0": "2",
                  "1": "1",
                  "2": "1.95",
                  "3": "11.5",
                  "4": "2.46",
                  "5": "1"
                },
                {
                  "0": "2",
                  "1": "2",
                  "2": "1.28",
                  "3": "6.5",
                  "4": "1.0",
                  "5": "1"
                },
                {
                  "0": "1",
                  "1": "1",
                  "2": "4.2",
                  "3": "17.5",
                  "4": "4.55",
                  "5": "1"
                },
                {
                  "0": "1",
                  "1": "2",
                  "2": "1.9",
                  "3": "9.0",
                  "4": "1.96",
                  "5": "1"
                },
                {
                  "0": "1",
                  "1": "1",
                  "2": "0.3",
                  "3": "3.5",
                  "4": "0.85",
                  "5": "1"
                },
                {
                  "0": "1",
                  "1": "1",
                  "2": "0.6",
                  "3": "7.0",
                  "4": "1.95",
                  "5": "1"
                },
                {
                  "0": "1",
                  "1": "1",
                  "2": "16.6",
                  "3": "65.0",
                  "4": "10.0",
                  "5": "1"
                },
                {
                  "0": "1",
                  "1": "1",
                  "2": "1.1",
                  "3": "5.5",
                  "4": "0.0",
                  "5": "0"
                },
                {
                  "0": "1",
                  "1": "1",
                  "2": "1.2",
                  "3": "17.5",
                  "4": "0.0",
                  "5": "0"
                },
                {
                  "0": "2",
                  "1": "2",
                  "2": "1.01",
                  "3": "6.5",
                  "4": "1.46",
                  "5": "1"
                },
                {
                  "0": "1",
                  "1": "3",
                  "2": "16.9",
                  "3": "52.0",
                  "4": "10.55",
                  "5": "1"
                },
                {
                  "0": "1",
                  "1": "3",
                  "2": "0.7",
                  "3": "5.0",
                  "4": "1.0",
                  "5": "1"
                },
                {
                  "0": "1",
                  "1": "1",
                  "2": "7.4",
                  "3": "21.5",
                  "4": "7.1",
                  "5": "1"
                },
                {
                  "0": "1",
                  "1": "1",
                  "2": "2.3",
                  "3": "9.0",
                  "4": "0.0",
                  "5": "0"
                },
                {
                  "0": "2",
                  "1": "1",
                  "2": "1.0",
                  "3": "7.5",
                  "4": "0.0",
                  "5": "0"
                },
                {
                  "0": "1",
                  "1": "1",
                  "2": "1.3",
                  "3": "7.0",
                  "4": "0.0",
                  "5": "0"
                },
                {
                  "0": "2",
                  "1": "2",
                  "2": "0.93",
                  "3": "8.0",
                  "4": "1.0",
                  "5": "1"
                },
                {
                  "0": "1",
                  "1": "1",
                  "2": "0.4",
                  "3": "4.0",
                  "4": "0.0",
                  "5": "0"
                },
                {
                  "0": "1",
                  "1": "1",
                  "2": "18.0",
                  "3": "52.0",
                  "4": "0.0",
                  "5": "0"
                },
                {
                  "0": "1",
                  "1": "1",
                  "2": "0.8",
                  "3": "5.0",
                  "4": "1.45",
                  "5": "1"
                },
                {
                  "0": "1",
                  "1": "2",
                  "2": "0.7",
                  "3": "6.0",
                  "4": "0.0",
                  "5": "0"
                },
                {
                  "0": "2",
                  "1": "1",
                  "2": "5.81",
                  "3": "21.0",
                  "4": "0.0",
                  "5": "0"
                },
                {
                  "0": "2",
                  "1": "1",
                  "2": "0.1",
                  "3": "2.5",
                  "4": "0.0",
                  "5": "0"
                },
                {
                  "0": "2",
                  "1": "1",
                  "2": "0.99",
                  "3": "8.5",
                  "4": "1.86",
                  "5": "1"
                },
                {
                  "0": "2",
                  "1": "1",
                  "2": "1.88",
                  "3": "10.0",
                  "4": "2.16",
                  "5": "1"
                },
                {
                  "0": "2",
                  "1": "3",
                  "2": "1.27",
                  "3": "8.0",
                  "4": "1.86",
                  "5": "1"
                },
                {
                  "0": "1",
                  "1": "1",
                  "2": "1.7",
                  "3": "8.0",
                  "4": "0.0",
                  "5": "0"
                },
                {
                  "0": "2",
                  "1": "1",
                  "2": "1.41",
                  "3": "8.0",
                  "4": "1.76",
                  "5": "1"
                },
                {
                  "0": "2",
                  "1": "1",
                  "2": "9.56",
                  "3": "31.5",
                  "4": "9.52",
                  "5": "1"
                },
                {
                  "0": "2",
                  "1": "1",
                  "2": "0.84",
                  "3": "6.0",
                  "4": "0.0",
                  "5": "0"
                },
                {
                  "0": "2",
                  "1": "1",
                  "2": "0.65",
                  "3": "5.5",
                  "4": "1.0",
                  "5": "1"
                },
                {
                  "0": "1",
                  "1": "1",
                  "2": "1.0",
                  "3": "5.5",
                  "4": "1.55",
                  "5": "1"
                },
                {
                  "0": "1",
                  "1": "2",
                  "2": "1.1",
                  "3": "6.5",
                  "4": "1.0",
                  "5": "1"
                },
                {
                  "0": "2",
                  "1": "3",
                  "2": "1.69",
                  "3": "9.5",
                  "4": "2.06",
                  "5": "1"
                },
                {
                  "0": "2",
                  "1": "1",
                  "2": "1.11",
                  "3": "6.0",
                  "4": "0.0",
                  "5": "0"
                },
                {
                  "0": "1",
                  "1": "1",
                  "2": "0.9",
                  "3": "5.0",
                  "4": "1.15",
                  "5": "1"
                },
                {
                  "0": "1",
                  "1": "1",
                  "2": "17.6",
                  "3": "66.5",
                  "4": "17.05",
                  "5": "1"
                },
                {
                  "0": "1",
                  "1": "1",
                  "2": "4.0",
                  "3": "14.5",
                  "4": "3.05",
                  "5": "1"
                },
                {
                  "0": "2",
                  "1": "2",
                  "2": "6.37",
                  "3": "28.5",
                  "4": "0.0",
                  "5": "0"
                },
                {
                  "0": "1",
                  "1": "1",
                  "2": "1.8",
                  "3": "9.5",
                  "4": "0.0",
                  "5": "0"
                },
                {
                  "0": "2",
                  "1": "2",
                  "2": "19.05",
                  "3": "52.0",
                  "4": "4.0",
                  "5": "1"
                },
                {
                  "0": "2",
                  "1": "1",
                  "2": "0.65",
                  "3": "5.5",
                  "4": "1.36",
                  "5": "1"
                },
                {
                  "0": "2",
                  "1": "1",
                  "2": "9.76",
                  "3": "56.0",
                  "4": "11.36",
                  "5": "1"
                },
                {
                  "0": "2",
                  "1": "1",
                  "2": "2.07",
                  "3": "9.5",
                  "4": "2.06",
                  "5": "1"
                },
                {
                  "0": "1",
                  "1": "1",
                  "2": "3.0",
                  "3": "15.5",
                  "4": "4.05",
                  "5": "1"
                },
                {
                  "0": "2",
                  "1": "5",
                  "2": "0.85",
                  "3": "5.0",
                  "4": "0.8",
                  "5": "1"
                },
                {
                  "0": "2",
                  "1": "2",
                  "2": "1.78",
                  "3": "9.0",
                  "4": "2.94",
                  "5": "1"
                },
                {
                  "0": "2",
                  "1": "6",
                  "2": "1.41",
                  "3": "7.5",
                  "4": "1.66",
                  "5": "1"
                },
                {
                  "0": "2",
                  "1": "2",
                  "2": "4.15",
                  "3": "18.0",
                  "4": "3.0",
                  "5": "1"
                },
                {
                  "0": "2",
                  "1": "1",
                  "2": "0.47",
                  "3": "3.5",
                  "4": "0.5",
                  "5": "1"
                },
                {
                  "0": "2",
                  "1": "1",
                  "2": "2.02",
                  "3": "11.5",
                  "4": "0.0",
                  "5": "0"
                },
                {
                  "0": "2",
                  "1": "5",
                  "2": "8.61",
                  "3": "26.5",
                  "4": "6.71",
                  "5": "1"
                },
                {
                  "0": "2",
                  "1": "1",
                  "2": "1.88",
                  "3": "9.0",
                  "4": "0.98",
                  "5": "1"
                },
                {
                  "0": "1",
                  "1": "1",
                  "2": "7.1",
                  "3": "27.0",
                  "4": "5.55",
                  "5": "1"
                },
                {
                  "0": "2",
                  "1": "5",
                  "2": "1.81",
                  "3": "7.5",
                  "4": "1.66",
                  "5": "1"
                },
                {
                  "0": "2",
                  "1": "5",
                  "2": "1.9",
                  "3": "9.0",
                  "4": "2.45",
                  "5": "1"
                },
                {
                  "0": "1",
                  "1": "1",
                  "2": "8.1",
                  "3": "24.0",
                  "4": "4.95",
                  "5": "1"
                },
                {
                  "0": "2",
                  "1": "6",
                  "2": "5.07",
                  "3": "16.0",
                  "4": "2.52",
                  "5": "1"
                },
                {
                  "0": "2",
                  "1": "1",
                  "2": "4.17",
                  "3": "14.5",
                  "4": "0.0",
                  "5": "0"
                },
                {
                  "0": "2",
                  "1": "3",
                  "2": "1.59",
                  "3": "8.5",
                  "4": "1.86",
                  "5": "1"
                },
                {
                  "0": "1",
                  "1": "1",
                  "2": "21.6",
                  "3": "75.0",
                  "4": "21.55",
                  "5": "1"
                },
                {
                  "0": "1",
                  "1": "1",
                  "2": "5.0",
                  "3": "18.5",
                  "4": "0.0",
                  "5": "0"
                },
                {
                  "0": "1",
                  "1": "1",
                  "2": "1.3",
                  "3": "8.5",
                  "4": "1.85",
                  "5": "1"
                },
                {
                  "0": "2",
                  "1": "5",
                  "2": "2.58",
                  "3": "12.0",
                  "4": "1.5",
                  "5": "1"
                },
                {
                  "0": "2",
                  "1": "2",
                  "2": "10.69",
                  "3": "30.5",
                  "4": "0.0",
                  "5": "0"
                },
                {
                  "0": "1",
                  "1": "1",
                  "2": "2.4",
                  "3": "11.5",
                  "4": "0.0",
                  "5": "0"
                },
                {
                  "0": "2",
                  "1": "1",
                  "2": "1.85",
                  "3": "9.0",
                  "4": "0.0",
                  "5": "0"
                },
                {
                  "0": "2",
                  "1": "2",
                  "2": "0.9",
                  "3": "5.0",
                  "4": "1.45",
                  "5": "1"
                },
                {
                  "0": "2",
                  "1": "1",
                  "2": "1.29",
                  "3": "10.0",
                  "4": "2.16",
                  "5": "1"
                },
                {
                  "0": "2",
                  "1": "1",
                  "2": "1.49",
                  "3": "10.5",
                  "4": "2.26",
                  "5": "1"
                },
                {
                  "0": "1",
                  "1": "1",
                  "2": "8.6",
                  "3": "32.5",
                  "4": "4.99",
                  "5": "1"
                },
                {
                  "0": "2",
                  "1": "1",
                  "2": "1.49",
                  "3": "9.0",
                  "4": "0.0",
                  "5": "0"
                },
                {
                  "0": "2",
                  "1": "1",
                  "2": "1.2",
                  "3": "7.5",
                  "4": "0.0",
                  "5": "0"
                },
                {
                  "0": "2",
                  "1": "3",
                  "2": "1.0",
                  "3": "5.5",
                  "4": "0.0",
                  "5": "0"
                },
                {
                  "0": "2",
                  "1": "1",
                  "2": "1.34",
                  "3": "9.0",
                  "4": "0.0",
                  "5": "0"
                },
                {
                  "0": "2",
                  "1": "1",
                  "2": "4.74",
                  "3": "16.0",
                  "4": "2.0",
                  "5": "1"
                },
                {
                  "0": "1",
                  "1": "1",
                  "2": "2.4",
                  "3": "13.5",
                  "4": "2.85",
                  "5": "1"
                },
                {
                  "0": "2",
                  "1": "1",
                  "2": "1.71",
                  "3": "9.5",
                  "4": "0.0",
                  "5": "0"
                },
                {
                  "0": "1",
                  "1": "1",
                  "2": "2.5",
                  "3": "17.5",
                  "4": "3.65",
                  "5": "1"
                },
                {
                  "0": "2",
                  "1": "2",
                  "2": "0.76",
                  "3": "4.5",
                  "4": "1.59",
                  "5": "1"
                },
                {
                  "0": "2",
                  "1": "2",
                  "2": "1.68",
                  "3": "9.5",
                  "4": "0.0",
                  "5": "0"
                },
                {
                  "0": "2",
                  "1": "1",
                  "2": "2.08",
                  "3": "9.5",
                  "4": "3.24",
                  "5": "1"
                },
                {
                  "0": "1",
                  "1": "3",
                  "2": "3.3",
                  "3": "19.0",
                  "4": "5.9",
                  "5": "1"
                },
                {
                  "0": "2",
                  "1": "1",
                  "2": "2.12",
                  "3": "9.5",
                  "4": "2.58",
                  "5": "1"
                },
                {
                  "0": "2",
                  "1": "4",
                  "2": "2.08",
                  "3": "8.5",
                  "4": "1.96",
                  "5": "1"
                },
                {
                  "0": "2",
                  "1": "1",
                  "2": "3.16",
                  "3": "13.5",
                  "4": "0.0",
                  "5": "0"
                },
                {
                  "0": "2",
                  "1": "1",
                  "2": "0.72",
                  "3": "5.5",
                  "4": "0.0",
                  "5": "0"
                },
                {
                  "0": "2",
                  "1": "5",
                  "2": "3.16",
                  "3": "13.0",
                  "4": "1.4",
                  "5": "1"
                },
                {
                  "0": "2",
                  "1": "1",
                  "2": "1.05",
                  "3": "8.0",
                  "4": "1.76",
                  "5": "1"
                },
                {
                  "0": "1",
                  "1": "3",
                  "2": "1.0",
                  "3": "5.5",
                  "4": "0.0",
                  "5": "0"
                },
                {
                  "0": "2",
                  "1": "1",
                  "2": "1.32",
                  "3": "9.5",
                  "4": "0.0",
                  "5": "0"
                },
                {
                  "0": "2",
                  "1": "2",
                  "2": "1.66",
                  "3": "7.0",
                  "4": "1.56",
                  "5": "1"
                },
                {
                  "0": "2",
                  "1": "1",
                  "2": "1.67",
                  "3": "9.5",
                  "4": "0.0",
                  "5": "0"
                },
                {
                  "0": "1",
                  "1": "1",
                  "2": "3.4",
                  "3": "14.5",
                  "4": "1.5",
                  "5": "1"
                },
                {
                  "0": "1",
                  "1": "1",
                  "2": "1.1",
                  "3": "8.0",
                  "4": "0.0",
                  "5": "0"
                },
                {
                  "0": "1",
                  "1": "1",
                  "2": "3.7",
                  "3": "13.0",
                  "4": "2.07",
                  "5": "1"
                },
                {
                  "0": "2",
                  "1": "1",
                  "2": "1.69",
                  "3": "14.0",
                  "4": "2.96",
                  "5": "1"
                },
                {
                  "0": "1",
                  "1": "2",
                  "2": "1.1",
                  "3": "6.5",
                  "4": "1.46",
                  "5": "1"
                },
                {
                  "0": "1",
                  "1": "1",
                  "2": "3.1",
                  "3": "16.0",
                  "4": "3.36",
                  "5": "1"
                },
                {
                  "0": "1",
                  "1": "1",
                  "2": "2.8",
                  "3": "15.5",
                  "4": "0.0",
                  "5": "0"
                },
                {
                  "0": "2",
                  "1": "2",
                  "2": "1.13",
                  "3": "8.0",
                  "4": "1.86",
                  "5": "1"
                },
                {
                  "0": "2",
                  "1": "1",
                  "2": "2.36",
                  "3": "10.0",
                  "4": "0.0",
                  "5": "0"
                },
                {
                  "0": "2",
                  "1": "2",
                  "2": "2.34",
                  "3": "16.0",
                  "4": "2.5",
                  "5": "1"
                },
                {
                  "0": "1",
                  "1": "1",
                  "2": "0.6",
                  "3": "4.5",
                  "4": "1.05",
                  "5": "1"
                },
                {
                  "0": "2",
                  "1": "1",
                  "2": "1.02",
                  "3": "6.5",
                  "4": "1.46",
                  "5": "1"
                },
                {
                  "0": "2",
                  "1": "1",
                  "2": "1.44",
                  "3": "7.0",
                  "4": "0.0",
                  "5": "0"
                },
                {
                  "0": "2",
                  "1": "1",
                  "2": "0.45",
                  "3": "4.0",
                  "4": "0.96",
                  "5": "1"
                },
                {
                  "0": "2",
                  "1": "1",
                  "2": "4.24",
                  "3": "19.0",
                  "4": "5.94",
                  "5": "1"
                },
                {
                  "0": "1",
                  "1": "1",
                  "2": "0.4",
                  "3": "5.0",
                  "4": "1.15",
                  "5": "1"
                },
                {
                  "0": "1",
                  "1": "3",
                  "2": "0.6",
                  "3": "5.5",
                  "4": "1.25",
                  "5": "1"
                },
                {
                  "0": "1",
                  "1": "1",
                  "2": "1.8",
                  "3": "7.5",
                  "4": "1.0",
                  "5": "1"
                },
                {
                  "0": "2",
                  "1": "2",
                  "2": "5.07",
                  "3": "20.5",
                  "4": "0.0",
                  "5": "0"
                },
                {
                  "0": "1",
                  "1": "1",
                  "2": "0.9",
                  "3": "8.0",
                  "4": "1.75",
                  "5": "1"
                },
                {
                  "0": "1",
                  "1": "2",
                  "2": "0.5",
                  "3": "4.0",
                  "4": "0.0",
                  "5": "0"
                },
                {
                  "0": "2",
                  "1": "1",
                  "2": "1.02",
                  "3": "5.5",
                  "4": "1.7",
                  "5": "1"
                },
                {
                  "0": "1",
                  "1": "1",
                  "2": "1.7",
                  "3": "7.5",
                  "4": "1.25",
                  "5": "1"
                },
                {
                  "0": "2",
                  "1": "2",
                  "2": "1.1",
                  "3": "7.0",
                  "4": "1.56",
                  "5": "1"
                },
                {
                  "0": "2",
                  "1": "1",
                  "2": "9.93",
                  "3": "31.5",
                  "4": "6.46",
                  "5": "1"
                },
                {
                  "0": "1",
                  "1": "1",
                  "2": "7.5",
                  "3": "25.0",
                  "4": "6.55",
                  "5": "1"
                },
                {
                  "0": "2",
                  "1": "3",
                  "2": "1.0",
                  "3": "6.5",
                  "4": "1.46",
                  "5": "1"
                },
                {
                  "0": "1",
                  "1": "1",
                  "2": "1.0",
                  "3": "9.5",
                  "4": "2.05",
                  "5": "1"
                },
                {
                  "0": "1",
                  "1": "1",
                  "2": "10.7",
                  "3": "37.0",
                  "4": "1.89",
                  "5": "1"
                },
                {
                  "0": "2",
                  "1": "1",
                  "2": "3.66",
                  "3": "20.5",
                  "4": "3.5",
                  "5": "1"
                },
                {
                  "0": "2",
                  "1": "1",
                  "2": "1.34",
                  "3": "7.0",
                  "4": "1.56",
                  "5": "1"
                },
                {
                  "0": "1",
                  "1": "1",
                  "2": "0.2",
                  "3": "3.5",
                  "4": "0.85",
                  "5": "1"
                },
                {
                  "0": "2",
                  "1": "6",
                  "2": "0.34",
                  "3": "4.5",
                  "4": "0.7",
                  "5": "1"
                },
                {
                  "0": "2",
                  "1": "1",
                  "2": "1.09",
                  "3": "6.5",
                  "4": "1.56",
                  "5": "1"
                },
                {
                  "0": "2",
                  "1": "1",
                  "2": "2.42",
                  "3": "12.5",
                  "4": "2.0",
                  "5": "1"
                },
                {
                  "0": "1",
                  "1": "1",
                  "2": "1.4",
                  "3": "9.0",
                  "4": "2.45",
                  "5": "1"
                },
                {
                  "0": "2",
                  "1": "1",
                  "2": "2.04",
                  "3": "11.0",
                  "4": "1.0",
                  "5": "1"
                },
                {
                  "0": "2",
                  "1": "1",
                  "2": "0.97",
                  "3": "5.5",
                  "4": "0.0",
                  "5": "0"
                },
                {
                  "0": "1",
                  "1": "1",
                  "2": "2.0",
                  "3": "8.5",
                  "4": "1.0",
                  "5": "1"
                },
                {
                  "0": "1",
                  "1": "1",
                  "2": "2.7",
                  "3": "13.0",
                  "4": "2.0",
                  "5": "1"
                },
                {
                  "0": "2",
                  "1": "5",
                  "2": "8.4",
                  "3": "33.0",
                  "4": "7.91",
                  "5": "1"
                },
                {
                  "0": "1",
                  "1": "1",
                  "2": "0.7",
                  "3": "5.5",
                  "4": "0.0",
                  "5": "0"
                },
                {
                  "0": "1",
                  "1": "0",
                  "2": "3.9",
                  "3": "18.0",
                  "4": "0.0",
                  "5": "0"
                },
                {
                  "0": "1",
                  "1": "1",
                  "2": "1.0",
                  "3": "5.5",
                  "4": "2.0",
                  "5": "1"
                },
                {
                  "0": "1",
                  "1": "0",
                  "2": "1.5",
                  "3": "8.0",
                  "4": "1.75",
                  "5": "1"
                },
                {
                  "0": "1",
                  "1": "1",
                  "2": "1.7",
                  "3": "9.5",
                  "4": "2.05",
                  "5": "1"
                },
                {
                  "0": "1",
                  "1": "2",
                  "2": "3.2",
                  "3": "13.5",
                  "4": "2.85",
                  "5": "1"
                },
                {
                  "0": "2",
                  "1": "1",
                  "2": "2.59",
                  "3": "17.5",
                  "4": "0.0",
                  "5": "0"
                },
                {
                  "0": "2",
                  "1": "2",
                  "2": "1.19",
                  "3": "7.0",
                  "4": "1.56",
                  "5": "1"
                },
                {
                  "0": "2",
                  "1": "2",
                  "2": "7.91",
                  "3": "27.0",
                  "4": "6.71",
                  "5": "1"
                },
                {
                  "0": "1",
                  "1": "1",
                  "2": "2.7",
                  "3": "12.5",
                  "4": "1.5",
                  "5": "1"
                },
                {
                  "0": "2",
                  "1": "1",
                  "2": "4.97",
                  "3": "17.5",
                  "4": "3.66",
                  "5": "1"
                },
                {
                  "0": "1",
                  "1": "1",
                  "2": "0.7",
                  "3": "5.5",
                  "4": "1.58",
                  "5": "1"
                },
                {
                  "0": "1",
                  "1": "2",
                  "2": "25.0",
                  "3": "115.0",
                  "4": "25.15",
                  "5": "1"
                },
                {
                  "0": "2",
                  "1": "1",
                  "2": "1.88",
                  "3": "7.5",
                  "4": "1.66",
                  "5": "1"
                },
                {
                  "0": "1",
                  "1": "1",
                  "2": "8.3",
                  "3": "26.5",
                  "4": "0.0",
                  "5": "0"
                },
                {
                  "0": "2",
                  "1": "3",
                  "2": "3.92",
                  "3": "17.5",
                  "4": "0.0",
                  "5": "0"
                },
                {
                  "0": "2",
                  "1": "4",
                  "2": "1.98",
                  "3": "9.0",
                  "4": "0.0",
                  "5": "0"
                },
                {
                  "0": "2",
                  "1": "5",
                  "2": "2.73",
                  "3": "14.0",
                  "4": "3.7",
                  "5": "1"
                },
                {
                  "0": "2",
                  "1": "1",
                  "2": "1.29",
                  "3": "5.5",
                  "4": "0.8",
                  "5": "1"
                },
                {
                  "0": "1",
                  "1": "1",
                  "2": "4.4",
                  "3": "15.5",
                  "4": "2.0",
                  "5": "1"
                },
                {
                  "0": "2",
                  "1": "1",
                  "2": "13.49",
                  "3": "45.5",
                  "4": "10.41",
                  "5": "1"
                },
                {
                  "0": "2",
                  "1": "2",
                  "2": "0.48",
                  "3": "4.5",
                  "4": "0.0",
                  "5": "0"
                },
                {
                  "0": "2",
                  "1": "1",
                  "2": "0.42",
                  "3": "4.5",
                  "4": "0.0",
                  "5": "0"
                },
                {
                  "0": "1",
                  "1": "2",
                  "2": "3.8",
                  "3": "14.0",
                  "4": "3.05",
                  "5": "1"
                },
                {
                  "0": "1",
                  "1": "1",
                  "2": "1.9",
                  "3": "8.0",
                  "4": "1.85",
                  "5": "1"
                },
                {
                  "0": "1",
                  "1": "1",
                  "2": "11.9",
                  "3": "37.0",
                  "4": "0.0",
                  "5": "0"
                },
                {
                  "0": "1",
                  "1": "1",
                  "2": "1.6",
                  "3": "8.0",
                  "4": "1.6",
                  "5": "1"
                },
                {
                  "0": "2",
                  "1": "2",
                  "2": "4.0",
                  "3": "15.5",
                  "4": "3.26",
                  "5": "1"
                },
                {
                  "0": "1",
                  "1": "1",
                  "2": "1.8",
                  "3": "8.0",
                  "4": "1.85",
                  "5": "1"
                },
                {
                  "0": "2",
                  "1": "1",
                  "2": "1.65",
                  "3": "10.0",
                  "4": "2.7",
                  "5": "1"
                },
                {
                  "0": "1",
                  "1": "1",
                  "2": "0.5",
                  "3": "5.0",
                  "4": "1.15",
                  "5": "1"
                },
                {
                  "0": "2",
                  "1": "6",
                  "2": "1.8",
                  "3": "10.0",
                  "4": "2.26",
                  "5": "1"
                },
                {
                  "0": "2",
                  "1": "1",
                  "2": "4.39",
                  "3": "19.0",
                  "4": "4.06",
                  "5": "1"
                },
                {
                  "0": "2",
                  "1": "1",
                  "2": "2.69",
                  "3": "11.5",
                  "4": "0.0",
                  "5": "0"
                },
                {
                  "0": "1",
                  "1": "1",
                  "2": "1.2",
                  "3": "11.5",
                  "4": "0.0",
                  "5": "0"
                },
                {
                  "0": "1",
                  "1": "0",
                  "2": "0.9",
                  "3": "6.5",
                  "4": "1.0",
                  "5": "1"
                },
                {
                  "0": "2",
                  "1": "1",
                  "2": "3.41",
                  "3": "12.0",
                  "4": "2.0",
                  "5": "1"
                },
                {
                  "0": "2",
                  "1": "1",
                  "2": "1.34",
                  "3": "7.5",
                  "4": "0.0",
                  "5": "0"
                },
                {
                  "0": "2",
                  "1": "1",
                  "2": "0.58",
                  "3": "4.0",
                  "4": "0.96",
                  "5": "1"
                },
                {
                  "0": "1",
                  "1": "3",
                  "2": "1.8",
                  "3": "8.5",
                  "4": "0.0",
                  "5": "0"
                },
                {
                  "0": "2",
                  "1": "1",
                  "2": "0.62",
                  "3": "8.0",
                  "4": "1.76",
                  "5": "1"
                },
                {
                  "0": "2",
                  "1": "1",
                  "2": "0.52",
                  "3": "4.5",
                  "4": "0.8",
                  "5": "1"
                },
                {
                  "0": "2",
                  "1": "1",
                  "2": "0.87",
                  "3": "6.5",
                  "4": "0.0",
                  "5": "0"
                },
                {
                  "0": "2",
                  "1": "1",
                  "2": "4.37",
                  "3": "17.5",
                  "4": "1.0",
                  "5": "1"
                },
                {
                  "0": "1",
                  "1": "1",
                  "2": "11.2",
                  "3": "36.5",
                  "4": "0.0",
                  "5": "0"
                },
                {
                  "0": "2",
                  "1": "6",
                  "2": "1.7",
                  "3": "9.5",
                  "4": "1.0",
                  "5": "1"
                },
                {
                  "0": "2",
                  "1": "1",
                  "2": "1.3",
                  "3": "9.5",
                  "4": "2.06",
                  "5": "1"
                },
                {
                  "0": "1",
                  "1": "1",
                  "2": "0.2",
                  "3": "3.0",
                  "4": "2.0",
                  "5": "1"
                },
                {
                  "0": "2",
                  "1": "1",
                  "2": "1.08",
                  "3": "5.5",
                  "4": "0.0",
                  "5": "0"
                },
                {
                  "0": "2",
                  "1": "1",
                  "2": "1.4",
                  "3": "6.5",
                  "4": "0.0",
                  "5": "0"
                },
                {
                  "0": "2",
                  "1": "1",
                  "2": "0.52",
                  "3": "4.0",
                  "4": "0.96",
                  "5": "1"
                },
                {
                  "0": "2",
                  "1": "6",
                  "2": "1.07",
                  "3": "6.0",
                  "4": "0.0",
                  "5": "0"
                },
                {
                  "0": "1",
                  "1": "1",
                  "2": "0.9",
                  "3": "5.0",
                  "4": "0.0",
                  "5": "0"
                },
                {
                  "0": "2",
                  "1": "1",
                  "2": "2.82",
                  "3": "12.0",
                  "4": "0.0",
                  "5": "0"
                },
                {
                  "0": "2",
                  "1": "5",
                  "2": "1.55",
                  "3": "7.5",
                  "4": "1.0",
                  "5": "1"
                },
                {
                  "0": "2",
                  "1": "1",
                  "2": "1.19",
                  "3": "9.5",
                  "4": "0.0",
                  "5": "0"
                },
                {
                  "0": "2",
                  "1": "2",
                  "2": "1.39",
                  "3": "7.0",
                  "4": "1.56",
                  "5": "1"
                },
                {
                  "0": "2",
                  "1": "1",
                  "2": "0.89",
                  "3": "6.0",
                  "4": "1.0",
                  "5": "1"
                },
                {
                  "0": "2",
                  "1": "2",
                  "2": "0.89",
                  "3": "5.5",
                  "4": "0.0",
                  "5": "0"
                },
                {
                  "0": "2",
                  "1": "3",
                  "2": "2.91",
                  "3": "13.0",
                  "4": "0.0",
                  "5": "0"
                },
                {
                  "0": "2",
                  "1": "1",
                  "2": "10.28",
                  "3": "30.5",
                  "4": "0.0",
                  "5": "0"
                },
                {
                  "0": "1",
                  "1": "2",
                  "2": "0.5",
                  "3": "6.0",
                  "4": "1.35",
                  "5": "1"
                },
                {
                  "0": "2",
                  "1": "5",
                  "2": "1.7",
                  "3": "10.0",
                  "4": "2.7",
                  "5": "1"
                },
                {
                  "0": "1",
                  "1": "1",
                  "2": "7.5",
                  "3": "24.5",
                  "4": "0.0",
                  "5": "0"
                },
                {
                  "0": "1",
                  "1": "1",
                  "2": "6.3",
                  "3": "20.0",
                  "4": "4.15",
                  "5": "1"
                },
                {
                  "0": "2",
                  "1": "1",
                  "2": "1.9",
                  "3": "9.0",
                  "4": "2.45",
                  "5": "1"
                },
                {
                  "0": "2",
                  "1": "1",
                  "2": "12.87",
                  "3": "35.0",
                  "4": "8.41",
                  "5": "1"
                },
                {
                  "0": "2",
                  "1": "1",
                  "2": "2.59",
                  "3": "10.0",
                  "4": "0.0",
                  "5": "0"
                },
                {
                  "0": "2",
                  "1": "1",
                  "2": "15.76",
                  "3": "48.0",
                  "4": "10.91",
                  "5": "1"
                },
                {
                  "0": "1",
                  "1": "2",
                  "2": "0.9",
                  "3": "5.5",
                  "4": "1.25",
                  "5": "1"
                },
                {
                  "0": "1",
                  "1": "1",
                  "2": "1.1",
                  "3": "6.5",
                  "4": "0.0",
                  "5": "0"
                },
                {
                  "0": "2",
                  "1": "1",
                  "2": "9.28",
                  "3": "29.0",
                  "4": "7.11",
                  "5": "1"
                },
                {
                  "0": "2",
                  "1": "1",
                  "2": "0.47",
                  "3": "6.5",
                  "4": "1.5",
                  "5": "1"
                },
                {
                  "0": "1",
                  "1": "1",
                  "2": "1.5",
                  "3": "9.0",
                  "4": "0.0",
                  "5": "0"
                },
                {
                  "0": "1",
                  "1": "1",
                  "2": "7.4",
                  "3": "28.0",
                  "4": "5.75",
                  "5": "1"
                },
                {
                  "0": "2",
                  "1": "6",
                  "2": "0.79",
                  "3": "5.0",
                  "4": "0.0",
                  "5": "0"
                },
                {
                  "0": "2",
                  "1": "5",
                  "2": "1.37",
                  "3": "9.5",
                  "4": "0.0",
                  "5": "0"
                },
                {
                  "0": "1",
                  "1": "1",
                  "2": "1.4",
                  "3": "8.0",
                  "4": "0.0",
                  "5": "0"
                },
                {
                  "0": "2",
                  "1": "1",
                  "2": "0.54",
                  "3": "6.0",
                  "4": "0.0",
                  "5": "0"
                },
                {
                  "0": "1",
                  "1": "1",
                  "2": "2.5",
                  "3": "11.0",
                  "4": "0.0",
                  "5": "0"
                },
                {
                  "0": "2",
                  "1": "1",
                  "2": "2.3",
                  "3": "11.0",
                  "4": "2.46",
                  "5": "1"
                },
                {
                  "0": "1",
                  "1": "1",
                  "2": "2.8",
                  "3": "10.5",
                  "4": "1.5",
                  "5": "1"
                },
                {
                  "0": "2",
                  "1": "4",
                  "2": "6.38",
                  "3": "26.5",
                  "4": "6.95",
                  "5": "1"
                },
                {
                  "0": "2",
                  "1": "1",
                  "2": "0.98",
                  "3": "5.5",
                  "4": "1.26",
                  "5": "1"
                },
                {
                  "0": "1",
                  "1": "1",
                  "2": "1.0",
                  "3": "8.0",
                  "4": "1.75",
                  "5": "1"
                },
                {
                  "0": "1",
                  "1": "1",
                  "2": "0.5",
                  "3": "4.0",
                  "4": "0.0",
                  "5": "0"
                },
                {
                  "0": "1",
                  "1": "1",
                  "2": "3.5",
                  "3": "14.5",
                  "4": "3.15",
                  "5": "1"
                },
                {
                  "0": "2",
                  "1": "1",
                  "2": "1.57",
                  "3": "7.5",
                  "4": "0.0",
                  "5": "0"
                },
                {
                  "0": "1",
                  "1": "1",
                  "2": "1.6",
                  "3": "21.0",
                  "4": "0.0",
                  "5": "0"
                },
                {
                  "0": "1",
                  "1": "1",
                  "2": "1.0",
                  "3": "5.0",
                  "4": "0.0",
                  "5": "0"
                },
                {
                  "0": "2",
                  "1": "1",
                  "2": "4.27",
                  "3": "16.5",
                  "4": "3.56",
                  "5": "1"
                },
                {
                  "0": "1",
                  "1": "1",
                  "2": "1.6",
                  "3": "8.0",
                  "4": "1.75",
                  "5": "1"
                },
                {
                  "0": "2",
                  "1": "1",
                  "2": "4.71",
                  "3": "17.5",
                  "4": "3.76",
                  "5": "1"
                },
                {
                  "0": "1",
                  "1": "1",
                  "2": "1.1",
                  "3": "9.5",
                  "4": "2.05",
                  "5": "1"
                },
                {
                  "0": "2",
                  "1": "6",
                  "2": "0.72",
                  "3": "9.0",
                  "4": "1.96",
                  "5": "1"
                },
                {
                  "0": "2",
                  "1": "1",
                  "2": "0.63",
                  "3": "4.0",
                  "4": "0.0",
                  "5": "0"
                },
                {
                  "0": "1",
                  "1": "1",
                  "2": "0.7",
                  "3": "7.5",
                  "4": "0.0",
                  "5": "0"
                },
                {
                  "0": "2",
                  "1": "1",
                  "2": "1.49",
                  "3": "7.5",
                  "4": "1.66",
                  "5": "1"
                },
                {
                  "0": "1",
                  "1": "1",
                  "2": "1.6",
                  "3": "7.5",
                  "4": "1.32",
                  "5": "1"
                },
                {
                  "0": "1",
                  "1": "1",
                  "2": "3.2",
                  "3": "14.0",
                  "4": "0.0",
                  "5": "0"
                },
                {
                  "0": "1",
                  "1": "1",
                  "2": "1.1",
                  "3": "13.5",
                  "4": "2.85",
                  "5": "1"
                },
                {
                  "0": "1",
                  "1": "2",
                  "2": "1.9",
                  "3": "10.0",
                  "4": "2.15",
                  "5": "1"
                },
                {
                  "0": "2",
                  "1": "1",
                  "2": "3.45",
                  "3": "15.0",
                  "4": "2.37",
                  "5": "1"
                },
                {
                  "0": "2",
                  "1": "5",
                  "2": "1.06",
                  "3": "5.5",
                  "4": "0.0",
                  "5": "0"
                },
                {
                  "0": "2",
                  "1": "1",
                  "2": "4.08",
                  "3": "19.0",
                  "4": "4.95",
                  "5": "1"
                },
                {
                  "0": "2",
                  "1": "2",
                  "2": "9.47",
                  "3": "30.5",
                  "4": "7.41",
                  "5": "1"
                },
                {
                  "0": "2",
                  "1": "1",
                  "2": "17.82",
                  "3": "52.0",
                  "4": "0.0",
                  "5": "0"
                },
                {
                  "0": "2",
                  "1": "1",
                  "2": "1.33",
                  "3": "7.5",
                  "4": "0.0",
                  "5": "0"
                },
                {
                  "0": "1",
                  "1": "1",
                  "2": "1.6",
                  "3": "13.5",
                  "4": "2.85",
                  "5": "1"
                },
                {
                  "0": "1",
                  "1": "1",
                  "2": "1.6",
                  "3": "8.5",
                  "4": "0.0",
                  "5": "0"
                },
                {
                  "0": "2",
                  "1": "1",
                  "2": "0.87",
                  "3": "4.5",
                  "4": "1.06",
                  "5": "1"
                },
                {
                  "0": "1",
                  "1": "1",
                  "2": "0.4",
                  "3": "4.0",
                  "4": "0.95",
                  "5": "1"
                },
                {
                  "0": "1",
                  "1": "1",
                  "2": "1.1",
                  "3": "8.5",
                  "4": "2.3",
                  "5": "1"
                },
                {
                  "0": "2",
                  "1": "1",
                  "2": "0.97",
                  "3": "6.0",
                  "4": "0.0",
                  "5": "0"
                },
                {
                  "0": "2",
                  "1": "6",
                  "2": "1.68",
                  "3": "11.5",
                  "4": "0.0",
                  "5": "0"
                },
                {
                  "0": "2",
                  "1": "2",
                  "2": "0.15",
                  "3": "5.5",
                  "4": "0.0",
                  "5": "0"
                },
                {
                  "0": "1",
                  "1": "1",
                  "2": "0.9",
                  "3": "8.0",
                  "4": "0.0",
                  "5": "0"
                },
                {
                  "0": "2",
                  "1": "2",
                  "2": "2.75",
                  "3": "14.0",
                  "4": "0.0",
                  "5": "0"
                },
                {
                  "0": "1",
                  "1": "1",
                  "2": "1.8",
                  "3": "7.5",
                  "4": "1.2",
                  "5": "1"
                },
                {
                  "0": "1",
                  "1": "1",
                  "2": "1.8",
                  "3": "10.5",
                  "4": "2.35",
                  "5": "1"
                },
                {
                  "0": "2",
                  "1": "1",
                  "2": "0.98",
                  "3": "7.0",
                  "4": "1.56",
                  "5": "1"
                },
                {
                  "0": "2",
                  "1": "1",
                  "2": "5.41",
                  "3": "19.5",
                  "4": "4.06",
                  "5": "1"
                },
                {
                  "0": "2",
                  "1": "1",
                  "2": "0.7",
                  "3": "5.5",
                  "4": "1.58",
                  "5": "1"
                },
                {
                  "0": "2",
                  "1": "1",
                  "2": "2.58",
                  "3": "12.5",
                  "4": "0.0",
                  "5": "0"
                },
                {
                  "0": "2",
                  "1": "1",
                  "2": "2.03",
                  "3": "9.0",
                  "4": "2.06",
                  "5": "1"
                },
                {
                  "0": "1",
                  "1": "1",
                  "2": "1.6",
                  "3": "7.5",
                  "4": "1.0",
                  "5": "1"
                },
                {
                  "0": "2",
                  "1": "1",
                  "2": "1.66",
                  "3": "7.5",
                  "4": "1.66",
                  "5": "1"
                },
                {
                  "0": "2",
                  "1": "2",
                  "2": "2.22",
                  "3": "10.5",
                  "4": "0.0",
                  "5": "0"
                },
                {
                  "0": "1",
                  "1": "1",
                  "2": "0.9",
                  "3": "13.0",
                  "4": "1.0",
                  "5": "1"
                },
                {
                  "0": "1",
                  "1": "1",
                  "2": "0.4",
                  "3": "4.0",
                  "4": "0.0",
                  "5": "0"
                },
                {
                  "0": "2",
                  "1": "1",
                  "2": "1.72",
                  "3": "7.5",
                  "4": "1.66",
                  "5": "1"
                },
                {
                  "0": "1",
                  "1": "1",
                  "2": "2.5",
                  "3": "11.0",
                  "4": "3.05",
                  "5": "1"
                },
                {
                  "0": "2",
                  "1": "1",
                  "2": "1.32",
                  "3": "9.5",
                  "4": "0.0",
                  "5": "0"
                },
                {
                  "0": "2",
                  "1": "1",
                  "2": "0.85",
                  "3": "5.0",
                  "4": "1.16",
                  "5": "1"
                },
                {
                  "0": "1",
                  "1": "2",
                  "2": "1.5",
                  "3": "15.5",
                  "4": "3.25",
                  "5": "1"
                },
                {
                  "0": "2",
                  "1": "2",
                  "2": "0.91",
                  "3": "10.5",
                  "4": "0.0",
                  "5": "0"
                },
                {
                  "0": "2",
                  "1": "1",
                  "2": "9.7",
                  "3": "34.0",
                  "4": "10.14",
                  "5": "1"
                },
                {
                  "0": "1",
                  "1": "2",
                  "2": "4.2",
                  "3": "15.5",
                  "4": "3.35",
                  "5": "1"
                },
                {
                  "0": "2",
                  "1": "4",
                  "2": "8.62",
                  "3": "25.5",
                  "4": "6.58",
                  "5": "1"
                },
                {
                  "0": "2",
                  "1": "1",
                  "2": "4.84",
                  "3": "18.0",
                  "4": "3.76",
                  "5": "1"
                },
                {
                  "0": "2",
                  "1": "2",
                  "2": "0.99",
                  "3": "5.0",
                  "4": "1.16",
                  "5": "1"
                },
                {
                  "0": "2",
                  "1": "1",
                  "2": "2.22",
                  "3": "14.0",
                  "4": "0.0",
                  "5": "0"
                },
                {
                  "0": "2",
                  "1": "1",
                  "2": "2.91",
                  "3": "16.0",
                  "4": "0.0",
                  "5": "0"
                },
                {
                  "0": "1",
                  "1": "1",
                  "2": "0.5",
                  "3": "5.0",
                  "4": "1.15",
                  "5": "1"
                },
                {
                  "0": "1",
                  "1": "1",
                  "2": "16.6",
                  "3": "52.0",
                  "4": "7.92",
                  "5": "1"
                },
                {
                  "0": "1",
                  "1": "1",
                  "2": "6.9",
                  "3": "21.5",
                  "4": "4.55",
                  "5": "1"
                },
                {
                  "0": "2",
                  "1": "2",
                  "2": "1.46",
                  "3": "9.0",
                  "4": "0.0",
                  "5": "0"
                },
                {
                  "0": "1",
                  "1": "1",
                  "2": "14.2",
                  "3": "51.0",
                  "4": "0.0",
                  "5": "0"
                },
                {
                  "0": "2",
                  "1": "1",
                  "2": "1.55",
                  "3": "9.5",
                  "4": "2.06",
                  "5": "1"
                },
                {
                  "0": "2",
                  "1": "1",
                  "2": "3.24",
                  "3": "12.5",
                  "4": "0.0",
                  "5": "0"
                },
                {
                  "0": "1",
                  "1": "1",
                  "2": "0.6",
                  "3": "5.0",
                  "4": "1.15",
                  "5": "1"
                },
                {
                  "0": "2",
                  "1": "2",
                  "2": "1.0",
                  "3": "6.5",
                  "4": "1.0",
                  "5": "1"
                },
                {
                  "0": "2",
                  "1": "1",
                  "2": "1.0",
                  "3": "6.5",
                  "4": "1.46",
                  "5": "1"
                },
                {
                  "0": "2",
                  "1": "1",
                  "2": "11.49",
                  "3": "34.5",
                  "4": "8.31",
                  "5": "1"
                },
                {
                  "0": "2",
                  "1": "6",
                  "2": "4.32",
                  "3": "16.5",
                  "4": "3.46",
                  "5": "1"
                },
                {
                  "0": "2",
                  "1": "2",
                  "2": "7.61",
                  "3": "26.5",
                  "4": "6.61",
                  "5": "1"
                },
                {
                  "0": "1",
                  "1": "3",
                  "2": "4.9",
                  "3": "16.0",
                  "4": "2.0",
                  "5": "1"
                },
                {
                  "0": "2",
                  "1": "1",
                  "2": "1.09",
                  "3": "5.0",
                  "4": "1.26",
                  "5": "1"
                },
                {
                  "0": "1",
                  "1": "1",
                  "2": "0.9",
                  "3": "6.0",
                  "4": "1.0",
                  "5": "1"
                },
                {
                  "0": "1",
                  "1": "1",
                  "2": "3.3",
                  "3": "14.0",
                  "4": "2.22",
                  "5": "1"
                },
                {
                  "0": "1",
                  "1": "1",
                  "2": "0.7",
                  "3": "5.0",
                  "4": "0.0",
                  "5": "0"
                },
                {
                  "0": "1",
                  "1": "1",
                  "2": "0.7",
                  "3": "4.5",
                  "4": "1.05",
                  "5": "1"
                },
                {
                  "0": "1",
                  "1": "1",
                  "2": "2.3",
                  "3": "11.0",
                  "4": "1.0",
                  "5": "1"
                },
                {
                  "0": "1",
                  "1": "1",
                  "2": "0.7",
                  "3": "8.5",
                  "4": "1.0",
                  "5": "1"
                },
                {
                  "0": "2",
                  "1": "1",
                  "2": "1.81",
                  "3": "9.0",
                  "4": "1.96",
                  "5": "1"
                },
                {
                  "0": "1",
                  "1": "1",
                  "2": "2.1",
                  "3": "14.0",
                  "4": "1.5",
                  "5": "1"
                },
                {
                  "0": "1",
                  "1": "0",
                  "2": "2.0",
                  "3": "9.0",
                  "4": "2.05",
                  "5": "1"
                },
                {
                  "0": "1",
                  "1": "1",
                  "2": "7.0",
                  "3": "22.5",
                  "4": "3.7",
                  "5": "1"
                },
                {
                  "0": "1",
                  "1": "1",
                  "2": "1.3",
                  "3": "7.5",
                  "4": "0.0",
                  "5": "0"
                },
                {
                  "0": "2",
                  "1": "3",
                  "2": "3.04",
                  "3": "14.5",
                  "4": "0.0",
                  "5": "0"
                },
                {
                  "0": "2",
                  "1": "1",
                  "2": "0.96",
                  "3": "6.0",
                  "4": "0.0",
                  "5": "0"
                },
                {
                  "0": "1",
                  "1": "1",
                  "2": "2.3",
                  "3": "12.0",
                  "4": "2.65",
                  "5": "1"
                },
                {
                  "0": "1",
                  "1": "2",
                  "2": "2.4",
                  "3": "11.0",
                  "4": "2.35",
                  "5": "1"
                },
                {
                  "0": "2",
                  "1": "1",
                  "2": "2.76",
                  "3": "15.5",
                  "4": "3.26",
                  "5": "1"
                },
                {
                  "0": "1",
                  "1": "1",
                  "2": "2.5",
                  "3": "12.5",
                  "4": "2.65",
                  "5": "1"
                },
                {
                  "0": "1",
                  "1": "2",
                  "2": "18.5",
                  "3": "52.0",
                  "4": "11.7",
                  "5": "1"
                },
                {
                  "0": "2",
                  "1": "1",
                  "2": "2.65",
                  "3": "11.5",
                  "4": "1.0",
                  "5": "1"
                },
                {
                  "0": "1",
                  "1": "1",
                  "2": "3.0",
                  "3": "12.5",
                  "4": "3.45",
                  "5": "1"
                },
                {
                  "0": "2",
                  "1": "2",
                  "2": "1.68",
                  "3": "7.5",
                  "4": "1.66",
                  "5": "1"
                },
                {
                  "0": "2",
                  "1": "4",
                  "2": "0.59",
                  "3": "7.0",
                  "4": "0.0",
                  "5": "0"
                },
                {
                  "0": "1",
                  "1": "2",
                  "2": "2.1",
                  "3": "9.0",
                  "4": "2.05",
                  "5": "1"
                },
                {
                  "0": "1",
                  "1": "1",
                  "2": "4.9",
                  "3": "22.0",
                  "4": "0.0",
                  "5": "0"
                },
                {
                  "0": "2",
                  "1": "1",
                  "2": "1.17",
                  "3": "7.0",
                  "4": "1.56",
                  "5": "1"
                },
                {
                  "0": "1",
                  "1": "1",
                  "2": "1.2",
                  "3": "8.0",
                  "4": "1.75",
                  "5": "1"
                },
                {
                  "0": "2",
                  "1": "1",
                  "2": "1.39",
                  "3": "8.0",
                  "4": "1.76",
                  "5": "1"
                },
                {
                  "0": "2",
                  "1": "1",
                  "2": "11.72",
                  "3": "47.5",
                  "4": "0.0",
                  "5": "0"
                },
                {
                  "0": "2",
                  "1": "1",
                  "2": "6.96",
                  "3": "23.0",
                  "4": "2.0",
                  "5": "1"
                },
                {
                  "0": "1",
                  "1": "1",
                  "2": "9.6",
                  "3": "28.5",
                  "4": "7.1",
                  "5": "1"
                },
                {
                  "0": "1",
                  "1": "1",
                  "2": "3.6",
                  "3": "16.0",
                  "4": "3.35",
                  "5": "1"
                },
                {
                  "0": "1",
                  "1": "1",
                  "2": "0.9",
                  "3": "5.0",
                  "4": "1.15",
                  "5": "1"
                },
                {
                  "0": "1",
                  "1": "2",
                  "2": "16.0",
                  "3": "70.5",
                  "4": "16.7",
                  "5": "1"
                },
                {
                  "0": "2",
                  "1": "2",
                  "2": "3.15",
                  "3": "26.5",
                  "4": "6.82",
                  "5": "1"
                },
                {
                  "0": "2",
                  "1": "1",
                  "2": "2.65",
                  "3": "11.0",
                  "4": "0.0",
                  "5": "0"
                },
                {
                  "0": "1",
                  "1": "1",
                  "2": "12.9",
                  "3": "45.0",
                  "4": "10.0",
                  "5": "1"
                },
                {
                  "0": "1",
                  "1": "1",
                  "2": "1.7",
                  "3": "8.5",
                  "4": "1.85",
                  "5": "1"
                },
                {
                  "0": "1",
                  "1": "1",
                  "2": "0.6",
                  "3": "5.0",
                  "4": "0.0",
                  "5": "0"
                },
                {
                  "0": "1",
                  "1": "2",
                  "2": "0.4",
                  "3": "4.0",
                  "4": "2.0",
                  "5": "1"
                },
                {
                  "0": "2",
                  "1": "5",
                  "2": "0.96",
                  "3": "11.0",
                  "4": "2.36",
                  "5": "1"
                },
                {
                  "0": "1",
                  "1": "1",
                  "2": "1.5",
                  "3": "7.5",
                  "4": "0.0",
                  "5": "0"
                },
                {
                  "0": "2",
                  "1": "2",
                  "2": "3.34",
                  "3": "15.0",
                  "4": "3.26",
                  "5": "1"
                },
                {
                  "0": "1",
                  "1": "1",
                  "2": "1.1",
                  "3": "7.0",
                  "4": "0.0",
                  "5": "0"
                },
                {
                  "0": "1",
                  "1": "2",
                  "2": "1.4",
                  "3": "10.5",
                  "4": "2.25",
                  "5": "1"
                },
                {
                  "0": "1",
                  "1": "1",
                  "2": "0.4",
                  "3": "10.0",
                  "4": "0.0",
                  "5": "0"
                },
                {
                  "0": "2",
                  "1": "1",
                  "2": "0.88",
                  "3": "6.5",
                  "4": "0.0",
                  "5": "0"
                },
                {
                  "0": "2",
                  "1": "2",
                  "2": "0.74",
                  "3": "5.5",
                  "4": "1.26",
                  "5": "1"
                },
                {
                  "0": "2",
                  "1": "1",
                  "2": "3.52",
                  "3": "13.0",
                  "4": "3.45",
                  "5": "1"
                },
                {
                  "0": "2",
                  "1": "1",
                  "2": "2.09",
                  "3": "11.0",
                  "4": "2.95",
                  "5": "1"
                },
                {
                  "0": "2",
                  "1": "1",
                  "2": "1.25",
                  "3": "7.0",
                  "4": "0.0",
                  "5": "0"
                },
                {
                  "0": "1",
                  "1": "1",
                  "2": "0.6",
                  "3": "5.0",
                  "4": "0.0",
                  "5": "0"
                },
                {
                  "0": "2",
                  "1": "1",
                  "2": "1.15",
                  "3": "7.5",
                  "4": "1.66",
                  "5": "1"
                },
                {
                  "0": "1",
                  "1": "1",
                  "2": "0.9",
                  "3": "6.5",
                  "4": "0.0",
                  "5": "0"
                },
                {
                  "0": "1",
                  "1": "1",
                  "2": "5.1",
                  "3": "31.0",
                  "4": "0.0",
                  "5": "0"
                },
                {
                  "0": "2",
                  "1": "1",
                  "2": "3.42",
                  "3": "12.5",
                  "4": "3.99",
                  "5": "1"
                },
                {
                  "0": "2",
                  "1": "2",
                  "2": "1.46",
                  "3": "8.0",
                  "4": "0.0",
                  "5": "0"
                },
                {
                  "0": "2",
                  "1": "1",
                  "2": "0.79",
                  "3": "5.5",
                  "4": "0.0",
                  "5": "0"
                },
                {
                  "0": "1",
                  "1": "1",
                  "2": "1.2",
                  "3": "6.5",
                  "4": "0.0",
                  "5": "0"
                },
                {
                  "0": "1",
                  "1": "4",
                  "2": "3.5",
                  "3": "13.0",
                  "4": "0.0",
                  "5": "0"
                },
                {
                  "0": "1",
                  "1": "1",
                  "2": "7.2",
                  "3": "30.5",
                  "4": "7.8",
                  "5": "1"
                },
                {
                  "0": "2",
                  "1": "2",
                  "2": "1.78",
                  "3": "8.5",
                  "4": "0.0",
                  "5": "0"
                },
                {
                  "0": "1",
                  "1": "1",
                  "2": "1.2",
                  "3": "5.5",
                  "4": "1.0",
                  "5": "1"
                },
                {
                  "0": "2",
                  "1": "1",
                  "2": "1.39",
                  "3": "6.5",
                  "4": "1.46",
                  "5": "1"
                },
                {
                  "0": "2",
                  "1": "1",
                  "2": "4.58",
                  "3": "15.5",
                  "4": "3.36",
                  "5": "1"
                },
                {
                  "0": "2",
                  "1": "1",
                  "2": "0.37",
                  "3": "3.5",
                  "4": "0.0",
                  "5": "0"
                },
                {
                  "0": "2",
                  "1": "1",
                  "2": "2.86",
                  "3": "15.0",
                  "4": "3.16",
                  "5": "1"
                },
                {
                  "0": "2",
                  "1": "1",
                  "2": "19.22",
                  "3": "52.0",
                  "4": "10.56",
                  "5": "1"
                },
                {
                  "0": "1",
                  "1": "1",
                  "2": "1.8",
                  "3": "7.5",
                  "4": "0.0",
                  "5": "0"
                },
                {
                  "0": "1",
                  "1": "1",
                  "2": "1.8",
                  "3": "9.0",
                  "4": "1.0",
                  "5": "1"
                },
                {
                  "0": "2",
                  "1": "1",
                  "2": "2.0",
                  "3": "9.0",
                  "4": "1.54",
                  "5": "1"
                },
                {
                  "0": "2",
                  "1": "1",
                  "2": "0.49",
                  "3": "4.0",
                  "4": "0.0",
                  "5": "0"
                },
                {
                  "0": "1",
                  "1": "1",
                  "2": "1.6",
                  "3": "8.5",
                  "4": "0.0",
                  "5": "0"
                },
                {
                  "0": "2",
                  "1": "1",
                  "2": "1.36",
                  "3": "6.5",
                  "4": "0.0",
                  "5": "0"
                },
                {
                  "0": "2",
                  "1": "2",
                  "2": "2.4",
                  "3": "10.5",
                  "4": "0.0",
                  "5": "0"
                },
                {
                  "0": "2",
                  "1": "1",
                  "2": "0.92",
                  "3": "5.0",
                  "4": "1.0",
                  "5": "1"
                },
                {
                  "0": "2",
                  "1": "1",
                  "2": "1.81",
                  "3": "13.0",
                  "4": "0.0",
                  "5": "0"
                },
                {
                  "0": "2",
                  "1": "1",
                  "2": "5.08",
                  "3": "20.0",
                  "4": "4.16",
                  "5": "1"
                },
                {
                  "0": "2",
                  "1": "1",
                  "2": "2.2",
                  "3": "11.0",
                  "4": "0.0",
                  "5": "0"
                },
                {
                  "0": "1",
                  "1": "1",
                  "2": "1.0",
                  "3": "6.0",
                  "4": "0.0",
                  "5": "0"
                },
                {
                  "0": "2",
                  "1": "2",
                  "2": "0.99",
                  "3": "6.0",
                  "4": "0.0",
                  "5": "0"
                },
                {
                  "0": "2",
                  "1": "1",
                  "2": "0.95",
                  "3": "5.5",
                  "4": "1.0",
                  "5": "1"
                },
                {
                  "0": "1",
                  "1": "1",
                  "2": "7.7",
                  "3": "30.0",
                  "4": "6.15",
                  "5": "1"
                },
                {
                  "0": "1",
                  "1": "1",
                  "2": "19.2",
                  "3": "74.5",
                  "4": "13.05",
                  "5": "1"
                },
                {
                  "0": "2",
                  "1": "2",
                  "2": "1.49",
                  "3": "6.5",
                  "4": "0.0",
                  "5": "0"
                },
                {
                  "0": "2",
                  "1": "1",
                  "2": "1.33",
                  "3": "8.0",
                  "4": "1.0",
                  "5": "1"
                },
                {
                  "0": "1",
                  "1": "2",
                  "2": "2.6",
                  "3": "9.5",
                  "4": "2.0",
                  "5": "1"
                },
                {
                  "0": "2",
                  "1": "1",
                  "2": "1.32",
                  "3": "7.0",
                  "4": "1.56",
                  "5": "1"
                },
                {
                  "0": "2",
                  "1": "1",
                  "2": "0.65",
                  "3": "5.0",
                  "4": "0.0",
                  "5": "0"
                },
                {
                  "0": "2",
                  "1": "1",
                  "2": "2.21",
                  "3": "10.0",
                  "4": "2.16",
                  "5": "1"
                },
                {
                  "0": "1",
                  "1": "1",
                  "2": "2.3",
                  "3": "10.0",
                  "4": "2.25",
                  "5": "1"
                },
                {
                  "0": "2",
                  "1": "1",
                  "2": "1.34",
                  "3": "6.5",
                  "4": "0.0",
                  "5": "0"
                },
                {
                  "0": "2",
                  "1": "6",
                  "2": "1.9",
                  "3": "9.5",
                  "4": "0.0",
                  "5": "0"
                },
                {
                  "0": "2",
                  "1": "2",
                  "2": "0.87",
                  "3": "5.0",
                  "4": "0.0",
                  "5": "0"
                },
                {
                  "0": "1",
                  "1": "1",
                  "2": "1.1",
                  "3": "6.5",
                  "4": "1.45",
                  "5": "1"
                },
                {
                  "0": "1",
                  "1": "2",
                  "2": "2.5",
                  "3": "10.5",
                  "4": "2.35",
                  "5": "1"
                },
                {
                  "0": "2",
                  "1": "1",
                  "2": "1.14",
                  "3": "9.5",
                  "4": "0.0",
                  "5": "0"
                },
                {
                  "0": "1",
                  "1": "1",
                  "2": "2.9",
                  "3": "11.5",
                  "4": "1.0",
                  "5": "1"
                },
                {
                  "0": "1",
                  "1": "1",
                  "2": "2.6",
                  "3": "16.0",
                  "4": "3.35",
                  "5": "1"
                },
                {
                  "0": "1",
                  "1": "1",
                  "2": "3.8",
                  "3": "16.5",
                  "4": "0.0",
                  "5": "0"
                },
                {
                  "0": "2",
                  "1": "1",
                  "2": "1.39",
                  "3": "8.5",
                  "4": "1.86",
                  "5": "1"
                },
                {
                  "0": "2",
                  "1": "1",
                  "2": "1.03",
                  "3": "6.0",
                  "4": "0.0",
                  "5": "0"
                },
                {
                  "0": "1",
                  "1": "1",
                  "2": "1.1",
                  "3": "12.0",
                  "4": "2.55",
                  "5": "1"
                },
                {
                  "0": "1",
                  "1": "1",
                  "2": "5.0",
                  "3": "17.5",
                  "4": "0.0",
                  "5": "0"
                },
                {
                  "0": "2",
                  "1": "2",
                  "2": "1.23",
                  "3": "7.0",
                  "4": "1.0",
                  "5": "1"
                },
                {
                  "0": "2",
                  "1": "2",
                  "2": "2.16",
                  "3": "11.0",
                  "4": "0.0",
                  "5": "0"
                },
                {
                  "0": "1",
                  "1": "1",
                  "2": "1.0",
                  "3": "5.5",
                  "4": "0.0",
                  "5": "0"
                },
                {
                  "0": "2",
                  "1": "1",
                  "2": "3.99",
                  "3": "13.0",
                  "4": "0.0",
                  "5": "0"
                },
                {
                  "0": "2",
                  "1": "6",
                  "2": "0.66",
                  "3": "5.0",
                  "4": "1.16",
                  "5": "1"
                },
                {
                  "0": "2",
                  "1": "5",
                  "2": "2.56",
                  "3": "12.0",
                  "4": "2.56",
                  "5": "1"
                },
                {
                  "0": "2",
                  "1": "2",
                  "2": "3.13",
                  "3": "14.5",
                  "4": "3.06",
                  "5": "1"
                },
                {
                  "0": "2",
                  "1": "3",
                  "2": "11.45",
                  "3": "33.5",
                  "4": "8.01",
                  "5": "1"
                },
                {
                  "0": "1",
                  "1": "1",
                  "2": "0.9",
                  "3": "7.5",
                  "4": "1.65",
                  "5": "1"
                },
                {
                  "0": "1",
                  "1": "1",
                  "2": "1.3",
                  "3": "6.5",
                  "4": "1.95",
                  "5": "1"
                },
                {
                  "0": "1",
                  "1": "1",
                  "2": "1.8",
                  "3": "10.0",
                  "4": "3.2",
                  "5": "1"
                },
                {
                  "0": "1",
                  "1": "1",
                  "2": "1.7",
                  "3": "8.0",
                  "4": "1.0",
                  "5": "1"
                },
                {
                  "0": "2",
                  "1": "1",
                  "2": "0.96",
                  "3": "10.0",
                  "4": "2.16",
                  "5": "1"
                },
                {
                  "0": "2",
                  "1": "1",
                  "2": "1.76",
                  "3": "10.0",
                  "4": "2.16",
                  "5": "1"
                },
                {
                  "0": "2",
                  "1": "1",
                  "2": "2.15",
                  "3": "11.0",
                  "4": "0.0",
                  "5": "0"
                },
                {
                  "0": "1",
                  "1": "1",
                  "2": "7.5",
                  "3": "26.5",
                  "4": "0.0",
                  "5": "0"
                },
                {
                  "0": "1",
                  "1": "1",
                  "2": "0.5",
                  "3": "7.0",
                  "4": "1.0",
                  "5": "1"
                },
                {
                  "0": "1",
                  "1": "1",
                  "2": "0.7",
                  "3": "5.5",
                  "4": "1.25",
                  "5": "1"
                },
                {
                  "0": "1",
                  "1": "1",
                  "2": "10.4",
                  "3": "30.0",
                  "4": "7.3",
                  "5": "1"
                },
                {
                  "0": "1",
                  "1": "2",
                  "2": "0.4",
                  "3": "5.5",
                  "4": "0.0",
                  "5": "0"
                },
                {
                  "0": "1",
                  "1": "1",
                  "2": "7.7",
                  "3": "26.0",
                  "4": "0.0",
                  "5": "0"
                },
                {
                  "0": "2",
                  "1": "6",
                  "2": "3.69",
                  "3": "14.5",
                  "4": "3.06",
                  "5": "1"
                },
                {
                  "0": "2",
                  "1": "1",
                  "2": "1.52",
                  "3": "9.5",
                  "4": "2.58",
                  "5": "1"
                },
                {
                  "0": "2",
                  "1": "1",
                  "2": "1.27",
                  "3": "6.5",
                  "4": "0.0",
                  "5": "0"
                },
                {
                  "0": "1",
                  "1": "1",
                  "2": "1.2",
                  "3": "9.5",
                  "4": "2.05",
                  "5": "1"
                },
                {
                  "0": "2",
                  "1": "1",
                  "2": "1.11",
                  "3": "7.0",
                  "4": "0.0",
                  "5": "0"
                },
                {
                  "0": "2",
                  "1": "2",
                  "2": "0.74",
                  "3": "7.0",
                  "4": "0.0",
                  "5": "0"
                },
                {
                  "0": "1",
                  "1": "1",
                  "2": "1.0",
                  "3": "8.0",
                  "4": "0.0",
                  "5": "0"
                },
                {
                  "0": "1",
                  "1": "1",
                  "2": "3.6",
                  "3": "17.0",
                  "4": "0.0",
                  "5": "0"
                },
                {
                  "0": "2",
                  "1": "1",
                  "2": "0.55",
                  "3": "4.5",
                  "4": "1.06",
                  "5": "1"
                },
                {
                  "0": "2",
                  "1": "4",
                  "2": "1.7",
                  "3": "8.0",
                  "4": "1.5",
                  "5": "1"
                },
                {
                  "0": "1",
                  "1": "1",
                  "2": "4.2",
                  "3": "17.5",
                  "4": "3.65",
                  "5": "1"
                },
                {
                  "0": "2",
                  "1": "1",
                  "2": "1.48",
                  "3": "10.5",
                  "4": "2.26",
                  "5": "1"
                },
                {
                  "0": "1",
                  "1": "1",
                  "2": "1.3",
                  "3": "7.0",
                  "4": "0.0",
                  "5": "0"
                },
                {
                  "0": "1",
                  "1": "1",
                  "2": "0.6",
                  "3": "6.0",
                  "4": "1.7",
                  "5": "1"
                },
                {
                  "0": "2",
                  "1": "1",
                  "2": "5.53",
                  "3": "18.5",
                  "4": "4.5",
                  "5": "1"
                },
                {
                  "0": "2",
                  "1": "1",
                  "2": "3.92",
                  "3": "20.5",
                  "4": "2.0",
                  "5": "1"
                },
                {
                  "0": "1",
                  "1": "1",
                  "2": "0.7",
                  "3": "5.0",
                  "4": "0.0",
                  "5": "0"
                },
                {
                  "0": "2",
                  "1": "1",
                  "2": "2.95",
                  "3": "17.0",
                  "4": "3.0",
                  "5": "1"
                },
                {
                  "0": "2",
                  "1": "6",
                  "2": "0.79",
                  "3": "5.0",
                  "4": "1.16",
                  "5": "1"
                },
                {
                  "0": "2",
                  "1": "1",
                  "2": "1.11",
                  "3": "10.0",
                  "4": "2.16",
                  "5": "1"
                },
                {
                  "0": "2",
                  "1": "1",
                  "2": "10.32",
                  "3": "32.5",
                  "4": "7.81",
                  "5": "1"
                },
                {
                  "0": "1",
                  "1": "2",
                  "2": "1.3",
                  "3": "11.0",
                  "4": "0.0",
                  "5": "0"
                },
                {
                  "0": "2",
                  "1": "1",
                  "2": "1.73",
                  "3": "8.5",
                  "4": "1.86",
                  "5": "1"
                },
                {
                  "0": "2",
                  "1": "1",
                  "2": "2.11",
                  "3": "13.0",
                  "4": "2.76",
                  "5": "1"
                },
                {
                  "0": "1",
                  "1": "1",
                  "2": "1.3",
                  "3": "7.0",
                  "4": "1.55",
                  "5": "1"
                },
                {
                  "0": "1",
                  "1": "2",
                  "2": "3.0",
                  "3": "15.5",
                  "4": "1.63",
                  "5": "1"
                },
                {
                  "0": "2",
                  "1": "1",
                  "2": "1.17",
                  "3": "5.5",
                  "4": "2.04",
                  "5": "1"
                },
                {
                  "0": "1",
                  "1": "1",
                  "2": "2.4",
                  "3": "11.5",
                  "4": "2.45",
                  "5": "1"
                },
                {
                  "0": "2",
                  "1": "4",
                  "2": "0.81",
                  "3": "5.5",
                  "4": "1.0",
                  "5": "1"
                },
                {
                  "0": "2",
                  "1": "5",
                  "2": "0.5",
                  "3": "5.0",
                  "4": "1.16",
                  "5": "1"
                },
                {
                  "0": "1",
                  "1": "2",
                  "2": "2.0",
                  "3": "8.5",
                  "4": "0.0",
                  "5": "0"
                },
                {
                  "0": "1",
                  "1": "1",
                  "2": "2.5",
                  "3": "19.0",
                  "4": "3.96",
                  "5": "1"
                },
                {
                  "0": "1",
                  "1": "1",
                  "2": "5.3",
                  "3": "21.0",
                  "4": "4.35",
                  "5": "1"
                },
                {
                  "0": "2",
                  "1": "1",
                  "2": "0.99",
                  "3": "5.5",
                  "4": "0.0",
                  "5": "0"
                },
                {
                  "0": "1",
                  "1": "1",
                  "2": "1.6",
                  "3": "9.0",
                  "4": "0.0",
                  "5": "0"
                },
                {
                  "0": "1",
                  "1": "1",
                  "2": "5.3",
                  "3": "18.0",
                  "4": "0.0",
                  "5": "0"
                },
                {
                  "0": "1",
                  "1": "4",
                  "2": "0.4",
                  "3": "4.5",
                  "4": "1.0",
                  "5": "1"
                },
                {
                  "0": "2",
                  "1": "1",
                  "2": "1.44",
                  "3": "7.5",
                  "4": "1.66",
                  "5": "1"
                },
                {
                  "0": "2",
                  "1": "3",
                  "2": "0.63",
                  "3": "5.0",
                  "4": "0.0",
                  "5": "0"
                },
                {
                  "0": "2",
                  "1": "1",
                  "2": "0.82",
                  "3": "7.5",
                  "4": "1.66",
                  "5": "1"
                },
                {
                  "0": "2",
                  "1": "1",
                  "2": "0.47",
                  "3": "4.0",
                  "4": "0.0",
                  "5": "0"
                },
                {
                  "0": "2",
                  "1": "6",
                  "2": "0.34",
                  "3": "3.0",
                  "4": "2.0",
                  "5": "1"
                },
                {
                  "0": "1",
                  "1": "2",
                  "2": "1.5",
                  "3": "7.0",
                  "4": "0.0",
                  "5": "0"
                },
                {
                  "0": "2",
                  "1": "1",
                  "2": "2.34",
                  "3": "13.5",
                  "4": "2.86",
                  "5": "1"
                },
                {
                  "0": "1",
                  "1": "4",
                  "2": "2.0",
                  "3": "10.0",
                  "4": "0.0",
                  "5": "0"
                },
                {
                  "0": "1",
                  "1": "1",
                  "2": "0.6",
                  "3": "5.5",
                  "4": "1.0",
                  "5": "1"
                },
                {
                  "0": "2",
                  "1": "1",
                  "2": "0.75",
                  "3": "6.5",
                  "4": "1.46",
                  "5": "1"
                },
                {
                  "0": "2",
                  "1": "6",
                  "2": "1.58",
                  "3": "9.5",
                  "4": "1.7",
                  "5": "1"
                },
                {
                  "0": "2",
                  "1": "6",
                  "2": "2.4",
                  "3": "10.0",
                  "4": "0.0",
                  "5": "0"
                },
                {
                  "0": "1",
                  "1": "1",
                  "2": "0.8",
                  "3": "10.0",
                  "4": "2.0",
                  "5": "1"
                },
                {
                  "0": "2",
                  "1": "1",
                  "2": "0.68",
                  "3": "5.0",
                  "4": "1.2",
                  "5": "1"
                },
                {
                  "0": "2",
                  "1": "1",
                  "2": "1.64",
                  "3": "8.0",
                  "4": "1.76",
                  "5": "1"
                },
                {
                  "0": "2",
                  "1": "6",
                  "2": "1.96",
                  "3": "10.5",
                  "4": "0.0",
                  "5": "0"
                },
                {
                  "0": "2",
                  "1": "1",
                  "2": "1.21",
                  "3": "6.0",
                  "4": "1.36",
                  "5": "1"
                },
                {
                  "0": "2",
                  "1": "1",
                  "2": "3.79",
                  "3": "16.5",
                  "4": "4.32",
                  "5": "1"
                },
                {
                  "0": "2",
                  "1": "1",
                  "2": "0.91",
                  "3": "4.5",
                  "4": "1.2",
                  "5": "1"
                },
                {
                  "0": "1",
                  "1": "1",
                  "2": "1.7",
                  "3": "8.0",
                  "4": "1.75",
                  "5": "1"
                },
                {
                  "0": "1",
                  "1": "2",
                  "2": "0.7",
                  "3": "6.5",
                  "4": "0.0",
                  "5": "0"
                },
                {
                  "0": "1",
                  "1": "1",
                  "2": "0.7",
                  "3": "5.5",
                  "4": "1.2",
                  "5": "1"
                },
                {
                  "0": "1",
                  "1": "1",
                  "2": "3.0",
                  "3": "11.5",
                  "4": "1.2",
                  "5": "1"
                },
                {
                  "0": "2",
                  "1": "1",
                  "2": "1.61",
                  "3": "7.5",
                  "4": "0.0",
                  "5": "0"
                },
                {
                  "0": "2",
                  "1": "5",
                  "2": "1.37",
                  "3": "14.0",
                  "4": "2.96",
                  "5": "1"
                },
                {
                  "0": "2",
                  "1": "1",
                  "2": "2.7",
                  "3": "10.5",
                  "4": "2.26",
                  "5": "1"
                },
                {
                  "0": "2",
                  "1": "1",
                  "2": "2.44",
                  "3": "17.5",
                  "4": "3.66",
                  "5": "1"
                },
                {
                  "0": "1",
                  "1": "1",
                  "2": "0.9",
                  "3": "6.0",
                  "4": "1.35",
                  "5": "1"
                },
                {
                  "0": "1",
                  "1": "1",
                  "2": "3.9",
                  "3": "13.0",
                  "4": "0.0",
                  "5": "0"
                },
                {
                  "0": "1",
                  "1": "1",
                  "2": "0.9",
                  "3": "7.5",
                  "4": "1.65",
                  "5": "1"
                },
                {
                  "0": "1",
                  "1": "1",
                  "2": "1.2",
                  "3": "11.0",
                  "4": "1.0",
                  "5": "1"
                },
                {
                  "0": "2",
                  "1": "1",
                  "2": "0.25",
                  "3": "3.0",
                  "4": "0.0",
                  "5": "0"
                },
                {
                  "0": "1",
                  "1": "1",
                  "2": "0.8",
                  "3": "10.0",
                  "4": "2.7",
                  "5": "1"
                },
                {
                  "0": "2",
                  "1": "1",
                  "2": "3.41",
                  "3": "13.5",
                  "4": "0.0",
                  "5": "0"
                },
                {
                  "0": "2",
                  "1": "5",
                  "2": "3.14",
                  "3": "14.0",
                  "4": "5.14",
                  "5": "1"
                },
                {
                  "0": "1",
                  "1": "1",
                  "2": "1.9",
                  "3": "8.0",
                  "4": "0.0",
                  "5": "0"
                },
                {
                  "0": "1",
                  "1": "1",
                  "2": "2.3",
                  "3": "13.5",
                  "4": "3.55",
                  "5": "1"
                },
                {
                  "0": "2",
                  "1": "1",
                  "2": "18.17",
                  "3": "52.0",
                  "4": "0.0",
                  "5": "0"
                },
                {
                  "0": "1",
                  "1": "1",
                  "2": "1.7",
                  "3": "15.0",
                  "4": "0.0",
                  "5": "0"
                },
                {
                  "0": "2",
                  "1": "1",
                  "2": "0.63",
                  "3": "5.0",
                  "4": "1.16",
                  "5": "1"
                },
                {
                  "0": "2",
                  "1": "1",
                  "2": "1.96",
                  "3": "10.0",
                  "4": "0.0",
                  "5": "0"
                },
                {
                  "0": "2",
                  "1": "1",
                  "2": "1.86",
                  "3": "9.0",
                  "4": "0.0",
                  "5": "0"
                },
                {
                  "0": "1",
                  "1": "1",
                  "2": "2.0",
                  "3": "14.5",
                  "4": "0.0",
                  "5": "0"
                },
                {
                  "0": "2",
                  "1": "1",
                  "2": "1.22",
                  "3": "7.0",
                  "4": "2.34",
                  "5": "1"
                },
                {
                  "0": "2",
                  "1": "2",
                  "2": "2.9",
                  "3": "11.0",
                  "4": "2.36",
                  "5": "1"
                },
                {
                  "0": "2",
                  "1": "1",
                  "2": "2.07",
                  "3": "10.5",
                  "4": "2.82",
                  "5": "1"
                },
                {
                  "0": "2",
                  "1": "1",
                  "2": "0.67",
                  "3": "4.5",
                  "4": "0.0",
                  "5": "0"
                },
                {
                  "0": "2",
                  "1": "1",
                  "2": "1.11",
                  "3": "6.0",
                  "4": "1.36",
                  "5": "1"
                },
                {
                  "0": "2",
                  "1": "4",
                  "2": "0.69",
                  "3": "6.0",
                  "4": "0.0",
                  "5": "0"
                },
                {
                  "0": "1",
                  "1": "1",
                  "2": "8.7",
                  "3": "35.0",
                  "4": "8.3",
                  "5": "1"
                },
                {
                  "0": "2",
                  "1": "2",
                  "2": "1.35",
                  "3": "8.5",
                  "4": "0.0",
                  "5": "0"
                },
                {
                  "0": "1",
                  "1": "2",
                  "2": "0.5",
                  "3": "4.0",
                  "4": "0.95",
                  "5": "1"
                },
                {
                  "0": "2",
                  "1": "5",
                  "2": "3.56",
                  "3": "12.5",
                  "4": "1.0",
                  "5": "1"
                },
                {
                  "0": "1",
                  "1": "2",
                  "2": "2.2",
                  "3": "10.5",
                  "4": "2.25",
                  "5": "1"
                },
                {
                  "0": "1",
                  "1": "1",
                  "2": "1.3",
                  "3": "13.0",
                  "4": "0.0",
                  "5": "0"
                },
                {
                  "0": "1",
                  "1": "2",
                  "2": "3.8",
                  "3": "15.5",
                  "4": "0.0",
                  "5": "0"
                },
                {
                  "0": "1",
                  "1": "1",
                  "2": "1.2",
                  "3": "8.0",
                  "4": "0.0",
                  "5": "0"
                },
                {
                  "0": "2",
                  "1": "1",
                  "2": "1.58",
                  "3": "7.5",
                  "4": "0.0",
                  "5": "0"
                },
                {
                  "0": "2",
                  "1": "1",
                  "2": "1.36",
                  "3": "10.5",
                  "4": "2.26",
                  "5": "1"
                },
                {
                  "0": "2",
                  "1": "6",
                  "2": "2.23",
                  "3": "13.0",
                  "4": "0.0",
                  "5": "0"
                },
                {
                  "0": "2",
                  "1": "2",
                  "2": "5.82",
                  "3": "20.0",
                  "4": "4.16",
                  "5": "1"
                },
                {
                  "0": "2",
                  "1": "2",
                  "2": "19.29",
                  "3": "52.0",
                  "4": "8.0",
                  "5": "1"
                },
                {
                  "0": "2",
                  "1": "1",
                  "2": "3.81",
                  "3": "16.5",
                  "4": "2.5",
                  "5": "1"
                },
                {
                  "0": "1",
                  "1": "1",
                  "2": "1.7",
                  "3": "9.5",
                  "4": "1.5",
                  "5": "1"
                },
                {
                  "0": "2",
                  "1": "5",
                  "2": "1.72",
                  "3": "10.5",
                  "4": "0.0",
                  "5": "0"
                },
                {
                  "0": "2",
                  "1": "5",
                  "2": "0.81",
                  "3": "5.5",
                  "4": "0.0",
                  "5": "0"
                },
                {
                  "0": "2",
                  "1": "1",
                  "2": "1.07",
                  "3": "15.5",
                  "4": "2.0",
                  "5": "1"
                },
                {
                  "0": "1",
                  "1": "2",
                  "2": "1.9",
                  "3": "9.0",
                  "4": "1.0",
                  "5": "1"
                },
                {
                  "0": "1",
                  "1": "1",
                  "2": "2.1",
                  "3": "17.0",
                  "4": "4.0",
                  "5": "1"
                },
                {
                  "0": "2",
                  "1": "1",
                  "2": "0.68",
                  "3": "5.0",
                  "4": "1.16",
                  "5": "1"
                },
                {
                  "0": "1",
                  "1": "1",
                  "2": "1.6",
                  "3": "10.0",
                  "4": "0.0",
                  "5": "0"
                },
                {
                  "0": "1",
                  "1": "1",
                  "2": "2.9",
                  "3": "11.5",
                  "4": "0.0",
                  "5": "0"
                },
                {
                  "0": "2",
                  "1": "1",
                  "2": "0.75",
                  "3": "4.5",
                  "4": "1.16",
                  "5": "1"
                },
                {
                  "0": "1",
                  "1": "1",
                  "2": "1.1",
                  "3": "7.5",
                  "4": "1.65",
                  "5": "1"
                },
                {
                  "0": "1",
                  "1": "1",
                  "2": "15.8",
                  "3": "44.5",
                  "4": "0.0",
                  "5": "0"
                },
                {
                  "0": "1",
                  "1": "1",
                  "2": "0.7",
                  "3": "8.0",
                  "4": "1.75",
                  "5": "1"
                },
                {
                  "0": "2",
                  "1": "1",
                  "2": "1.23",
                  "3": "8.5",
                  "4": "1.86",
                  "5": "1"
                },
                {
                  "0": "2",
                  "1": "1",
                  "2": "10.63",
                  "3": "37.5",
                  "4": "5.0",
                  "5": "1"
                },
                {
                  "0": "2",
                  "1": "1",
                  "2": "3.13",
                  "3": "12.5",
                  "4": "0.0",
                  "5": "0"
                },
                {
                  "0": "2",
                  "1": "1",
                  "2": "1.38",
                  "3": "7.0",
                  "4": "1.95",
                  "5": "1"
                },
                {
                  "0": "1",
                  "1": "1",
                  "2": "1.3",
                  "3": "6.0",
                  "4": "1.35",
                  "5": "1"
                },
                {
                  "0": "1",
                  "1": "1",
                  "2": "1.8",
                  "3": "10.5",
                  "4": "2.25",
                  "5": "1"
                },
                {
                  "0": "2",
                  "1": "1",
                  "2": "1.44",
                  "3": "7.5",
                  "4": "1.66",
                  "5": "1"
                },
                {
                  "0": "2",
                  "1": "1",
                  "2": "7.79",
                  "3": "25.5",
                  "4": "8.02",
                  "5": "1"
                },
                {
                  "0": "2",
                  "1": "1",
                  "2": "0.47",
                  "3": "5.0",
                  "4": "1.16",
                  "5": "1"
                },
                {
                  "0": "2",
                  "1": "1",
                  "2": "3.96",
                  "3": "17.0",
                  "4": "3.56",
                  "5": "1"
                },
                {
                  "0": "1",
                  "1": "1",
                  "2": "2.7",
                  "3": "10.0",
                  "4": "2.8",
                  "5": "1"
                },
                {
                  "0": "2",
                  "1": "1",
                  "2": "1.61",
                  "3": "10.0",
                  "4": "2.16",
                  "5": "1"
                },
                {
                  "0": "1",
                  "1": "1",
                  "2": "0.9",
                  "3": "6.5",
                  "4": "0.0",
                  "5": "0"
                },
                {
                  "0": "2",
                  "1": "1",
                  "2": "0.85",
                  "3": "5.5",
                  "4": "2.04",
                  "5": "1"
                },
                {
                  "0": "2",
                  "1": "1",
                  "2": "0.71",
                  "3": "5.5",
                  "4": "1.0",
                  "5": "1"
                },
                {
                  "0": "1",
                  "1": "1",
                  "2": "1.8",
                  "3": "9.0",
                  "4": "1.95",
                  "5": "1"
                },
                {
                  "0": "2",
                  "1": "5",
                  "2": "2.11",
                  "3": "14.0",
                  "4": "2.96",
                  "5": "1"
                },
                {
                  "0": "2",
                  "1": "1",
                  "2": "9.48",
                  "3": "28.0",
                  "4": "1.46",
                  "5": "1"
                },
                {
                  "0": "2",
                  "1": "5",
                  "2": "0.5",
                  "3": "15.5",
                  "4": "0.0",
                  "5": "0"
                },
                {
                  "0": "2",
                  "1": "1",
                  "2": "1.88",
                  "3": "9.0",
                  "4": "1.96",
                  "5": "1"
                },
                {
                  "0": "1",
                  "1": "1",
                  "2": "1.4",
                  "3": "7.0",
                  "4": "0.0",
                  "5": "0"
                },
                {
                  "0": "1",
                  "1": "1",
                  "2": "14.6",
                  "3": "43.0",
                  "4": "8.75",
                  "5": "1"
                },
                {
                  "0": "1",
                  "1": "1",
                  "2": "2.4",
                  "3": "13.5",
                  "4": "1.5",
                  "5": "1"
                },
                {
                  "0": "2",
                  "1": "2",
                  "2": "7.69",
                  "3": "24.0",
                  "4": "9.17",
                  "5": "1"
                },
                {
                  "0": "2",
                  "1": "5",
                  "2": "0.55",
                  "3": "4.5",
                  "4": "1.16",
                  "5": "1"
                },
                {
                  "0": "1",
                  "1": "5",
                  "2": "0.9",
                  "3": "5.5",
                  "4": "0.0",
                  "5": "0"
                },
                {
                  "0": "2",
                  "1": "1",
                  "2": "1.4",
                  "3": "7.5",
                  "4": "1.66",
                  "5": "1"
                },
                {
                  "0": "2",
                  "1": "1",
                  "2": "3.22",
                  "3": "13.0",
                  "4": "2.76",
                  "5": "1"
                },
                {
                  "0": "1",
                  "1": "1",
                  "2": "0.3",
                  "3": "4.0",
                  "4": "0.0",
                  "5": "0"
                },
                {
                  "0": "2",
                  "1": "1",
                  "2": "1.56",
                  "3": "7.0",
                  "4": "0.0",
                  "5": "0"
                },
                {
                  "0": "2",
                  "1": "1",
                  "2": "1.29",
                  "3": "13.0",
                  "4": "1.38",
                  "5": "1"
                },
                {
                  "0": "2",
                  "1": "1",
                  "2": "15.24",
                  "3": "50.5",
                  "4": "0.0",
                  "5": "0"
                },
                {
                  "0": "2",
                  "1": "1",
                  "2": "0.64",
                  "3": "6.0",
                  "4": "1.0",
                  "5": "1"
                },
                {
                  "0": "1",
                  "1": "1",
                  "2": "3.9",
                  "3": "16.5",
                  "4": "2.75",
                  "5": "1"
                },
                {
                  "0": "2",
                  "1": "1",
                  "2": "3.52",
                  "3": "14.0",
                  "4": "3.06",
                  "5": "1"
                },
                {
                  "0": "1",
                  "1": "2",
                  "2": "2.5",
                  "3": "12.0",
                  "4": "2.55",
                  "5": "1"
                },
                {
                  "0": "2",
                  "1": "1",
                  "2": "1.0",
                  "3": "9.0",
                  "4": "1.96",
                  "5": "1"
                },
                {
                  "0": "1",
                  "1": "1",
                  "2": "1.7",
                  "3": "10.0",
                  "4": "0.0",
                  "5": "0"
                },
                {
                  "0": "2",
                  "1": "1",
                  "2": "1.23",
                  "3": "12.0",
                  "4": "0.0",
                  "5": "0"
                },
                {
                  "0": "1",
                  "1": "3",
                  "2": "1.0",
                  "3": "6.5",
                  "4": "1.1",
                  "5": "1"
                },
                {
                  "0": "1",
                  "1": "1",
                  "2": "0.5",
                  "3": "6.5",
                  "4": "0.0",
                  "5": "0"
                },
                {
                  "0": "2",
                  "1": "1",
                  "2": "1.6",
                  "3": "7.5",
                  "4": "1.66",
                  "5": "1"
                },
                {
                  "0": "2",
                  "1": "1",
                  "2": "1.35",
                  "3": "16.5",
                  "4": "2.0",
                  "5": "1"
                },
                {
                  "0": "2",
                  "1": "1",
                  "2": "3.93",
                  "3": "15.5",
                  "4": "0.0",
                  "5": "0"
                },
                {
                  "0": "2",
                  "1": "4",
                  "2": "1.11",
                  "3": "8.0",
                  "4": "0.0",
                  "5": "0"
                },
                {
                  "0": "2",
                  "1": "1",
                  "2": "6.8",
                  "3": "25.5",
                  "4": "0.0",
                  "5": "0"
                },
                {
                  "0": "2",
                  "1": "1",
                  "2": "2.39",
                  "3": "15.5",
                  "4": "3.08",
                  "5": "1"
                },
                {
                  "0": "2",
                  "1": "5",
                  "2": "2.45",
                  "3": "10.5",
                  "4": "2.26",
                  "5": "1"
                },
                {
                  "0": "2",
                  "1": "6",
                  "2": "1.32",
                  "3": "14.0",
                  "4": "3.7",
                  "5": "1"
                },
                {
                  "0": "2",
                  "1": "4",
                  "2": "0.91",
                  "3": "7.0",
                  "4": "1.56",
                  "5": "1"
                },
                {
                  "0": "2",
                  "1": "6",
                  "2": "9.68",
                  "3": "28.0",
                  "4": "5.0",
                  "5": "1"
                },
                {
                  "0": "1",
                  "1": "1",
                  "2": "8.3",
                  "3": "52.0",
                  "4": "11.7",
                  "5": "1"
                },
                {
                  "0": "2",
                  "1": "1",
                  "2": "0.91",
                  "3": "5.5",
                  "4": "0.0",
                  "5": "0"
                },
                {
                  "0": "2",
                  "1": "1",
                  "2": "1.36",
                  "3": "8.0",
                  "4": "0.0",
                  "5": "0"
                },
                {
                  "0": "1",
                  "1": "1",
                  "2": "6.7",
                  "3": "24.0",
                  "4": "0.0",
                  "5": "0"
                },
                {
                  "0": "2",
                  "1": "5",
                  "2": "1.7",
                  "3": "7.5",
                  "4": "0.0",
                  "5": "0"
                },
                {
                  "0": "2",
                  "1": "1",
                  "2": "1.53",
                  "3": "7.0",
                  "4": "1.56",
                  "5": "1"
                },
                {
                  "0": "2",
                  "1": "2",
                  "2": "1.42",
                  "3": "6.0",
                  "4": "0.0",
                  "5": "0"
                },
                {
                  "0": "2",
                  "1": "1",
                  "2": "0.66",
                  "3": "6.0",
                  "4": "0.0",
                  "5": "0"
                },
                {
                  "0": "1",
                  "1": "1",
                  "2": "1.2",
                  "3": "6.5",
                  "4": "0.0",
                  "5": "0"
                },
                {
                  "0": "2",
                  "1": "2",
                  "2": "1.78",
                  "3": "10.5",
                  "4": "0.0",
                  "5": "0"
                },
                {
                  "0": "2",
                  "1": "2",
                  "2": "9.23",
                  "3": "30.5",
                  "4": "0.0",
                  "5": "0"
                },
                {
                  "0": "1",
                  "1": "2",
                  "2": "2.7",
                  "3": "12.5",
                  "4": "2.65",
                  "5": "1"
                },
                {
                  "0": "2",
                  "1": "1",
                  "2": "0.41",
                  "3": "4.5",
                  "4": "0.0",
                  "5": "0"
                },
                {
                  "0": "1",
                  "1": "1",
                  "2": "8.6",
                  "3": "25.5",
                  "4": "6.41",
                  "5": "1"
                },
                {
                  "0": "2",
                  "1": "1",
                  "2": "1.58",
                  "3": "7.5",
                  "4": "1.66",
                  "5": "1"
                },
                {
                  "0": "2",
                  "1": "1",
                  "2": "13.1",
                  "3": "38.0",
                  "4": "5.0",
                  "5": "1"
                },
                {
                  "0": "2",
                  "1": "1",
                  "2": "1.01",
                  "3": "7.0",
                  "4": "0.0",
                  "5": "0"
                },
                {
                  "0": "2",
                  "1": "1",
                  "2": "1.58",
                  "3": "8.0",
                  "4": "0.0",
                  "5": "0"
                },
                {
                  "0": "2",
                  "1": "2",
                  "2": "1.3",
                  "3": "7.5",
                  "4": "0.0",
                  "5": "0"
                },
                {
                  "0": "2",
                  "1": "1",
                  "2": "4.27",
                  "3": "15.0",
                  "4": "0.0",
                  "5": "0"
                },
                {
                  "0": "2",
                  "1": "1",
                  "2": "9.51",
                  "3": "32.0",
                  "4": "6.56",
                  "5": "1"
                },
                {
                  "0": "1",
                  "1": "1",
                  "2": "1.7",
                  "3": "10.0",
                  "4": "2.15",
                  "5": "1"
                },
                {
                  "0": "2",
                  "1": "3",
                  "2": "18.51",
                  "3": "52.0",
                  "4": "0.0",
                  "5": "0"
                },
                {
                  "0": "2",
                  "1": "1",
                  "2": "12.39",
                  "3": "55.0",
                  "4": "12.31",
                  "5": "1"
                },
                {
                  "0": "2",
                  "1": "1",
                  "2": "1.96",
                  "3": "11.0",
                  "4": "2.95",
                  "5": "1"
                },
                {
                  "0": "1",
                  "1": "1",
                  "2": "2.2",
                  "3": "9.5",
                  "4": "0.0",
                  "5": "0"
                },
                {
                  "0": "1",
                  "1": "2",
                  "2": "1.5",
                  "3": "8.0",
                  "4": "0.0",
                  "5": "0"
                },
                {
                  "0": "1",
                  "1": "1",
                  "2": "1.5",
                  "3": "8.5",
                  "4": "1.0",
                  "5": "1"
                },
                {
                  "0": "1",
                  "1": "1",
                  "2": "2.2",
                  "3": "9.5",
                  "4": "1.25",
                  "5": "1"
                },
                {
                  "0": "2",
                  "1": "1",
                  "2": "2.42",
                  "3": "13.5",
                  "4": "1.4",
                  "5": "1"
                },
                {
                  "0": "2",
                  "1": "1",
                  "2": "1.14",
                  "3": "6.5",
                  "4": "0.0",
                  "5": "0"
                },
                {
                  "0": "1",
                  "1": "1",
                  "2": "3.3",
                  "3": "12.5",
                  "4": "2.0",
                  "5": "1"
                },
                {
                  "0": "1",
                  "1": "2",
                  "2": "3.4",
                  "3": "15.5",
                  "4": "2.45",
                  "5": "1"
                },
                {
                  "0": "2",
                  "1": "1",
                  "2": "2.73",
                  "3": "16.5",
                  "4": "3.46",
                  "5": "1"
                },
                {
                  "0": "1",
                  "1": "2",
                  "2": "1.3",
                  "3": "8.0",
                  "4": "1.75",
                  "5": "1"
                },
                {
                  "0": "1",
                  "1": "1",
                  "2": "1.3",
                  "3": "7.5",
                  "4": "2.0",
                  "5": "1"
                },
                {
                  "0": "2",
                  "1": "1",
                  "2": "3.22",
                  "3": "13.0",
                  "4": "0.0",
                  "5": "0"
                },
                {
                  "0": "1",
                  "1": "1",
                  "2": "2.0",
                  "3": "11.0",
                  "4": "2.0",
                  "5": "1"
                },
                {
                  "0": "1",
                  "1": "4",
                  "2": "1.9",
                  "3": "10.5",
                  "4": "1.7",
                  "5": "1"
                },
                {
                  "0": "1",
                  "1": "1",
                  "2": "1.6",
                  "3": "8.5",
                  "4": "0.0",
                  "5": "0"
                },
                {
                  "0": "2",
                  "1": "1",
                  "2": "1.5",
                  "3": "9.0",
                  "4": "1.96",
                  "5": "1"
                },
                {
                  "0": "1",
                  "1": "1",
                  "2": "1.7",
                  "3": "12.0",
                  "4": "2.0",
                  "5": "1"
                },
                {
                  "0": "1",
                  "1": "1",
                  "2": "2.9",
                  "3": "11.0",
                  "4": "2.35",
                  "5": "1"
                },
                {
                  "0": "1",
                  "1": "1",
                  "2": "4.7",
                  "3": "16.5",
                  "4": "2.0",
                  "5": "1"
                },
                {
                  "0": "2",
                  "1": "1",
                  "2": "0.83",
                  "3": "5.5",
                  "4": "0.7",
                  "5": "1"
                },
                {
                  "0": "2",
                  "1": "1",
                  "2": "5.86",
                  "3": "22.0",
                  "4": "4.66",
                  "5": "1"
                },
                {
                  "0": "1",
                  "1": "1",
                  "2": "18.9",
                  "3": "52.0",
                  "4": "0.0",
                  "5": "0"
                },
                {
                  "0": "1",
                  "1": "1",
                  "2": "5.9",
                  "3": "20.0",
                  "4": "4.25",
                  "5": "1"
                },
                {
                  "0": "1",
                  "1": "1",
                  "2": "0.9",
                  "3": "7.0",
                  "4": "0.0",
                  "5": "0"
                },
                {
                  "0": "2",
                  "1": "1",
                  "2": "11.72",
                  "3": "50.0",
                  "4": "11.31",
                  "5": "1"
                },
                {
                  "0": "1",
                  "1": "1",
                  "2": "1.4",
                  "3": "6.5",
                  "4": "0.0",
                  "5": "0"
                },
                {
                  "0": "2",
                  "1": "1",
                  "2": "6.71",
                  "3": "26.5",
                  "4": "5.46",
                  "5": "1"
                },
                {
                  "0": "1",
                  "1": "1",
                  "2": "4.9",
                  "3": "20.5",
                  "4": "0.0",
                  "5": "0"
                },
                {
                  "0": "1",
                  "1": "1",
                  "2": "16.6",
                  "3": "52.0",
                  "4": "10.55",
                  "5": "1"
                },
                {
                  "0": "1",
                  "1": "1",
                  "2": "11.3",
                  "3": "38.0",
                  "4": "7.75",
                  "5": "1"
                },
                {
                  "0": "1",
                  "1": "2",
                  "2": "1.7",
                  "3": "10.5",
                  "4": "0.0",
                  "5": "0"
                },
                {
                  "0": "1",
                  "1": "1",
                  "2": "1.1",
                  "3": "7.5",
                  "4": "0.0",
                  "5": "0"
                },
                {
                  "0": "2",
                  "1": "5",
                  "2": "0.86",
                  "3": "5.5",
                  "4": "0.0",
                  "5": "0"
                },
                {
                  "0": "2",
                  "1": "3",
                  "2": "3.84",
                  "3": "19.5",
                  "4": "5.08",
                  "5": "1"
                },
                {
                  "0": "1",
                  "1": "1",
                  "2": "0.7",
                  "3": "6.0",
                  "4": "0.0",
                  "5": "0"
                },
                {
                  "0": "1",
                  "1": "1",
                  "2": "1.3",
                  "3": "7.0",
                  "4": "0.0",
                  "5": "0"
                },
                {
                  "0": "1",
                  "1": "1",
                  "2": "3.7",
                  "3": "19.5",
                  "4": "1.5",
                  "5": "1"
                },
                {
                  "0": "2",
                  "1": "1",
                  "2": "17.43",
                  "3": "52.0",
                  "4": "0.0",
                  "5": "0"
                },
                {
                  "0": "2",
                  "1": "1",
                  "2": "1.44",
                  "3": "6.5",
                  "4": "0.0",
                  "5": "0"
                },
                {
                  "0": "2",
                  "1": "1",
                  "2": "2.92",
                  "3": "14.0",
                  "4": "2.96",
                  "5": "1"
                },
                {
                  "0": "1",
                  "1": "1",
                  "2": "8.7",
                  "3": "25.0",
                  "4": "5.25",
                  "5": "1"
                },
                {
                  "0": "2",
                  "1": "2",
                  "2": "2.28",
                  "3": "11.5",
                  "4": "0.0",
                  "5": "0"
                },
                {
                  "0": "1",
                  "1": "4",
                  "2": "17.3",
                  "3": "52.0",
                  "4": "0.0",
                  "5": "0"
                },
                {
                  "0": "2",
                  "1": "1",
                  "2": "3.26",
                  "3": "13.0",
                  "4": "3.0",
                  "5": "1"
                },
                {
                  "0": "2",
                  "1": "1",
                  "2": "2.1",
                  "3": "11.0",
                  "4": "1.18",
                  "5": "1"
                },
                {
                  "0": "2",
                  "1": "2",
                  "2": "1.58",
                  "3": "9.0",
                  "4": "0.98",
                  "5": "1"
                },
                {
                  "0": "2",
                  "1": "2",
                  "2": "1.74",
                  "3": "17.5",
                  "4": "3.66",
                  "5": "1"
                },
                {
                  "0": "1",
                  "1": "1",
                  "2": "1.4",
                  "3": "7.0",
                  "4": "1.55",
                  "5": "1"
                },
                {
                  "0": "2",
                  "1": "1",
                  "2": "2.53",
                  "3": "11.5",
                  "4": "2.46",
                  "5": "1"
                },
                {
                  "0": "2",
                  "1": "6",
                  "2": "1.15",
                  "3": "6.0",
                  "4": "1.46",
                  "5": "1"
                },
                {
                  "0": "2",
                  "1": "1",
                  "2": "1.21",
                  "3": "6.5",
                  "4": "0.2",
                  "5": "1"
                },
                {
                  "0": "2",
                  "1": "5",
                  "2": "1.56",
                  "3": "6.5",
                  "4": "0.0",
                  "5": "0"
                },
                {
                  "0": "1",
                  "1": "1",
                  "2": "0.6",
                  "3": "4.5",
                  "4": "1.05",
                  "5": "1"
                },
                {
                  "0": "1",
                  "1": "2",
                  "2": "2.4",
                  "3": "11.0",
                  "4": "0.0",
                  "5": "0"
                },
                {
                  "0": "1",
                  "1": "0",
                  "2": "0.9",
                  "3": "5.5",
                  "4": "0.63",
                  "5": "1"
                },
                {
                  "0": "1",
                  "1": "1",
                  "2": "11.5",
                  "3": "33.5",
                  "4": "8.0",
                  "5": "1"
                },
                {
                  "0": "1",
                  "1": "1",
                  "2": "2.3",
                  "3": "9.5",
                  "4": "2.15",
                  "5": "1"
                },
                {
                  "0": "2",
                  "1": "1",
                  "2": "19.91",
                  "3": "54.0",
                  "4": "0.0",
                  "5": "0"
                },
                {
                  "0": "1",
                  "1": "1",
                  "2": "0.3",
                  "3": "5.5",
                  "4": "0.0",
                  "5": "0"
                },
                {
                  "0": "1",
                  "1": "1",
                  "2": "2.9",
                  "3": "12.5",
                  "4": "1.0",
                  "5": "1"
                },
                {
                  "0": "2",
                  "1": "1",
                  "2": "1.84",
                  "3": "10.0",
                  "4": "0.0",
                  "5": "0"
                },
                {
                  "0": "2",
                  "1": "1",
                  "2": "1.79",
                  "3": "8.0",
                  "4": "1.76",
                  "5": "1"
                },
                {
                  "0": "2",
                  "1": "1",
                  "2": "2.6",
                  "3": "14.5",
                  "4": "0.0",
                  "5": "0"
                },
                {
                  "0": "1",
                  "1": "3",
                  "2": "1.4",
                  "3": "6.5",
                  "4": "0.0",
                  "5": "0"
                },
                {
                  "0": "2",
                  "1": "1",
                  "2": "2.37",
                  "3": "9.0",
                  "4": "1.96",
                  "5": "1"
                },
                {
                  "0": "2",
                  "1": "2",
                  "2": "3.88",
                  "3": "16.0",
                  "4": "3.36",
                  "5": "1"
                },
                {
                  "0": "2",
                  "1": "2",
                  "2": "1.46",
                  "3": "13.0",
                  "4": "2.76",
                  "5": "1"
                },
                {
                  "0": "2",
                  "1": "1",
                  "2": "1.43",
                  "3": "7.0",
                  "4": "1.66",
                  "5": "1"
                },
                {
                  "0": "2",
                  "1": "2",
                  "2": "1.54",
                  "3": "17.0",
                  "4": "5.34",
                  "5": "1"
                },
                {
                  "0": "2",
                  "1": "1",
                  "2": "2.11",
                  "3": "9.5",
                  "4": "1.0",
                  "5": "1"
                },
                {
                  "0": "2",
                  "1": "1",
                  "2": "0.24",
                  "3": "9.0",
                  "4": "1.47",
                  "5": "1"
                },
                {
                  "0": "1",
                  "1": "1",
                  "2": "0.7",
                  "3": "5.0",
                  "4": "0.0",
                  "5": "0"
                },
                {
                  "0": "1",
                  "1": "1",
                  "2": "1.6",
                  "3": "11.0",
                  "4": "2.35",
                  "5": "1"
                },
                {
                  "0": "2",
                  "1": "2",
                  "2": "3.38",
                  "3": "15.5",
                  "4": "3.26",
                  "5": "1"
                },
                {
                  "0": "1",
                  "1": "1",
                  "2": "10.7",
                  "3": "38.0",
                  "4": "8.9",
                  "5": "1"
                },
                {
                  "0": "1",
                  "1": "1",
                  "2": "1.0",
                  "3": "5.0",
                  "4": "1.0",
                  "5": "1"
                },
                {
                  "0": "2",
                  "1": "5",
                  "2": "0.36",
                  "3": "3.5",
                  "4": "0.43",
                  "5": "1"
                },
                {
                  "0": "1",
                  "1": "1",
                  "2": "1.8",
                  "3": "9.5",
                  "4": "2.05",
                  "5": "1"
                },
                {
                  "0": "2",
                  "1": "3",
                  "2": "1.27",
                  "3": "8.0",
                  "4": "0.0",
                  "5": "0"
                },
                {
                  "0": "2",
                  "1": "1",
                  "2": "0.99",
                  "3": "5.5",
                  "4": "1.26",
                  "5": "1"
                },
                {
                  "0": "1",
                  "1": "1",
                  "2": "0.7",
                  "3": "4.0",
                  "4": "0.0",
                  "5": "0"
                },
                {
                  "0": "2",
                  "1": "3",
                  "2": "3.38",
                  "3": "13.5",
                  "4": "0.0",
                  "5": "0"
                },
                {
                  "0": "1",
                  "1": "1",
                  "2": "3.2",
                  "3": "16.0",
                  "4": "3.35",
                  "5": "1"
                },
                {
                  "0": "1",
                  "1": "2",
                  "2": "2.1",
                  "3": "9.5",
                  "4": "0.7",
                  "5": "1"
                },
                {
                  "0": "1",
                  "1": "1",
                  "2": "0.9",
                  "3": "6.0",
                  "4": "1.35",
                  "5": "1"
                },
                {
                  "0": "2",
                  "1": "2",
                  "2": "1.46",
                  "3": "8.5",
                  "4": "1.86",
                  "5": "1"
                },
                {
                  "0": "1",
                  "1": "1",
                  "2": "9.0",
                  "3": "27.0",
                  "4": "6.7",
                  "5": "1"
                },
                {
                  "0": "2",
                  "1": "1",
                  "2": "1.09",
                  "3": "7.0",
                  "4": "1.66",
                  "5": "1"
                },
                {
                  "0": "1",
                  "1": "1",
                  "2": "6.3",
                  "3": "26.5",
                  "4": "3.0",
                  "5": "1"
                },
                {
                  "0": "2",
                  "1": "1",
                  "2": "0.94",
                  "3": "6.0",
                  "4": "1.02",
                  "5": "1"
                },
                {
                  "0": "1",
                  "1": "1",
                  "2": "1.1",
                  "3": "10.0",
                  "4": "1.25",
                  "5": "1"
                },
                {
                  "0": "1",
                  "1": "4",
                  "2": "1.1",
                  "3": "6.5",
                  "4": "2.0",
                  "5": "1"
                },
                {
                  "0": "2",
                  "1": "2",
                  "2": "0.55",
                  "3": "7.5",
                  "4": "1.66",
                  "5": "1"
                },
                {
                  "0": "1",
                  "1": "1",
                  "2": "2.7",
                  "3": "12.5",
                  "4": "2.0",
                  "5": "1"
                },
                {
                  "0": "2",
                  "1": "5",
                  "2": "0.61",
                  "3": "4.0",
                  "4": "1.06",
                  "5": "1"
                },
                {
                  "0": "2",
                  "1": "1",
                  "2": "4.51",
                  "3": "18.5",
                  "4": "2.8",
                  "5": "1"
                },
                {
                  "0": "2",
                  "1": "1",
                  "2": "0.75",
                  "3": "12.0",
                  "4": "2.56",
                  "5": "1"
                },
                {
                  "0": "2",
                  "1": "1",
                  "2": "5.25",
                  "3": "21.0",
                  "4": "4.36",
                  "5": "1"
                },
                {
                  "0": "1",
                  "1": "2",
                  "2": "2.4",
                  "3": "11.5",
                  "4": "2.45",
                  "5": "1"
                },
                {
                  "0": "2",
                  "1": "1",
                  "2": "22.94",
                  "3": "52.0",
                  "4": "0.0",
                  "5": "0"
                },
                {
                  "0": "1",
                  "1": "1",
                  "2": "1.3",
                  "3": "6.5",
                  "4": "1.55",
                  "5": "1"
                },
                {
                  "0": "2",
                  "1": "1",
                  "2": "2.21",
                  "3": "10.0",
                  "4": "1.0",
                  "5": "1"
                },
                {
                  "0": "1",
                  "1": "1",
                  "2": "5.4",
                  "3": "21.5",
                  "4": "4.45",
                  "5": "1"
                },
                {
                  "0": "1",
                  "1": "1",
                  "2": "3.3",
                  "3": "12.5",
                  "4": "4.25",
                  "5": "1"
                },
                {
                  "0": "1",
                  "1": "1",
                  "2": "1.1",
                  "3": "7.0",
                  "4": "0.0",
                  "5": "0"
                },
                {
                  "0": "2",
                  "1": "5",
                  "2": "2.4",
                  "3": "12.5",
                  "4": "2.66",
                  "5": "1"
                },
                {
                  "0": "1",
                  "1": "4",
                  "2": "2.5",
                  "3": "11.0",
                  "4": "0.0",
                  "5": "0"
                },
                {
                  "0": "1",
                  "1": "2",
                  "2": "0.7",
                  "3": "6.0",
                  "4": "1.0",
                  "5": "1"
                },
                {
                  "0": "1",
                  "1": "1",
                  "2": "0.9",
                  "3": "8.0",
                  "4": "0.0",
                  "5": "0"
                },
                {
                  "0": "1",
                  "1": "1",
                  "2": "0.2",
                  "3": "5.5",
                  "4": "0.0",
                  "5": "0"
                },
                {
                  "0": "2",
                  "1": "3",
                  "2": "0.72",
                  "3": "6.0",
                  "4": "0.0",
                  "5": "0"
                },
                {
                  "0": "2",
                  "1": "2",
                  "2": "1.01",
                  "3": "7.0",
                  "4": "2.34",
                  "5": "1"
                },
                {
                  "0": "2",
                  "1": "1",
                  "2": "1.51",
                  "3": "9.0",
                  "4": "0.0",
                  "5": "0"
                },
                {
                  "0": "1",
                  "1": "2",
                  "2": "4.1",
                  "3": "15.0",
                  "4": "3.16",
                  "5": "1"
                },
                {
                  "0": "1",
                  "1": "1",
                  "2": "0.7",
                  "3": "8.0",
                  "4": "1.75",
                  "5": "1"
                },
                {
                  "0": "1",
                  "1": "1",
                  "2": "1.4",
                  "3": "7.5",
                  "4": "2.05",
                  "5": "1"
                },
                {
                  "0": "2",
                  "1": "1",
                  "2": "2.28",
                  "3": "16.5",
                  "4": "0.0",
                  "5": "0"
                },
                {
                  "0": "2",
                  "1": "2",
                  "2": "1.67",
                  "3": "10.5",
                  "4": "2.26",
                  "5": "1"
                },
                {
                  "0": "2",
                  "1": "4",
                  "2": "9.75",
                  "3": "34.0",
                  "4": "0.0",
                  "5": "0"
                },
                {
                  "0": "2",
                  "1": "2",
                  "2": "2.73",
                  "3": "11.5",
                  "4": "3.08",
                  "5": "1"
                },
                {
                  "0": "2",
                  "1": "2",
                  "2": "1.07",
                  "3": "5.5",
                  "4": "2.04",
                  "5": "1"
                },
                {
                  "0": "1",
                  "1": "1",
                  "2": "1.9",
                  "3": "10.5",
                  "4": "2.26",
                  "5": "1"
                },
                {
                  "0": "1",
                  "1": "1",
                  "2": "1.0",
                  "3": "8.0",
                  "4": "1.32",
                  "5": "1"
                },
                {
                  "0": "2",
                  "1": "1",
                  "2": "1.45",
                  "3": "8.0",
                  "4": "1.76",
                  "5": "1"
                },
                {
                  "0": "2",
                  "1": "1",
                  "2": "0.87",
                  "3": "4.5",
                  "4": "0.87",
                  "5": "1"
                },
                {
                  "0": "1",
                  "1": "1",
                  "2": "1.0",
                  "3": "5.5",
                  "4": "1.5",
                  "5": "1"
                },
                {
                  "0": "2",
                  "1": "3",
                  "2": "2.65",
                  "3": "10.5",
                  "4": "2.26",
                  "5": "1"
                },
                {
                  "0": "2",
                  "1": "2",
                  "2": "2.13",
                  "3": "9.5",
                  "4": "0.0",
                  "5": "0"
                },
                {
                  "0": "1",
                  "1": "1",
                  "2": "1.7",
                  "3": "8.0",
                  "4": "2.0",
                  "5": "1"
                },
                {
                  "0": "1",
                  "1": "1",
                  "2": "1.9",
                  "3": "10.5",
                  "4": "1.0",
                  "5": "1"
                },
                {
                  "0": "1",
                  "1": "2",
                  "2": "1.3",
                  "3": "10.5",
                  "4": "0.0",
                  "5": "0"
                },
                {
                  "0": "2",
                  "1": "1",
                  "2": "1.49",
                  "3": "7.0",
                  "4": "1.95",
                  "5": "1"
                },
                {
                  "0": "1",
                  "1": "3",
                  "2": "12.5",
                  "3": "44.0",
                  "4": "8.0",
                  "5": "1"
                },
                {
                  "0": "2",
                  "1": "1",
                  "2": "1.84",
                  "3": "7.5",
                  "4": "1.66",
                  "5": "1"
                },
                {
                  "0": "1",
                  "1": "1",
                  "2": "8.9",
                  "3": "27.5",
                  "4": "2.0",
                  "5": "1"
                },
                {
                  "0": "1",
                  "1": "1",
                  "2": "1.7",
                  "3": "9.5",
                  "4": "3.05",
                  "5": "1"
                },
                {
                  "0": "2",
                  "1": "1",
                  "2": "1.59",
                  "3": "9.0",
                  "4": "1.0",
                  "5": "1"
                },
                {
                  "0": "2",
                  "1": "1",
                  "2": "1.06",
                  "3": "6.0",
                  "4": "1.7",
                  "5": "1"
                },
                {
                  "0": "2",
                  "1": "1",
                  "2": "1.67",
                  "3": "7.5",
                  "4": "1.66",
                  "5": "1"
                },
                {
                  "0": "1",
                  "1": "1",
                  "2": "0.9",
                  "3": "6.5",
                  "4": "1.45",
                  "5": "1"
                },
                {
                  "0": "1",
                  "1": "1",
                  "2": "0.7",
                  "3": "4.0",
                  "4": "0.0",
                  "5": "0"
                },
                {
                  "0": "2",
                  "1": "1",
                  "2": "0.69",
                  "3": "4.5",
                  "4": "1.32",
                  "5": "1"
                },
                {
                  "0": "2",
                  "1": "1",
                  "2": "1.43",
                  "3": "6.5",
                  "4": "0.0",
                  "5": "0"
                },
                {
                  "0": "2",
                  "1": "6",
                  "2": "4.67",
                  "3": "18.0",
                  "4": "0.0",
                  "5": "0"
                },
                {
                  "0": "1",
                  "1": "1",
                  "2": "1.9",
                  "3": "8.0",
                  "4": "1.4",
                  "5": "1"
                },
                {
                  "0": "2",
                  "1": "1",
                  "2": "0.87",
                  "3": "8.0",
                  "4": "1.76",
                  "5": "1"
                },
                {
                  "0": "1",
                  "1": "1",
                  "2": "0.7",
                  "3": "5.0",
                  "4": "1.16",
                  "5": "1"
                },
                {
                  "0": "2",
                  "1": "1",
                  "2": "0.51",
                  "3": "5.5",
                  "4": "0.0",
                  "5": "0"
                },
                {
                  "0": "2",
                  "1": "1",
                  "2": "2.88",
                  "3": "14.0",
                  "4": "2.96",
                  "5": "1"
                },
                {
                  "0": "1",
                  "1": "1",
                  "2": "1.6",
                  "3": "11.0",
                  "4": "0.0",
                  "5": "0"
                },
                {
                  "0": "1",
                  "1": "1",
                  "2": "1.7",
                  "3": "9.0",
                  "4": "1.95",
                  "5": "1"
                },
                {
                  "0": "1",
                  "1": "1",
                  "2": "2.7",
                  "3": "25.5",
                  "4": "5.25",
                  "5": "1"
                },
                {
                  "0": "1",
                  "1": "4",
                  "2": "1.8",
                  "3": "10.5",
                  "4": "0.0",
                  "5": "0"
                },
                {
                  "0": "1",
                  "1": "2",
                  "2": "4.1",
                  "3": "16.0",
                  "4": "3.15",
                  "5": "1"
                },
                {
                  "0": "2",
                  "1": "2",
                  "2": "1.21",
                  "3": "6.5",
                  "4": "3.0",
                  "5": "1"
                },
                {
                  "0": "2",
                  "1": "1",
                  "2": "3.31",
                  "3": "20.0",
                  "4": "0.0",
                  "5": "0"
                },
                {
                  "0": "2",
                  "1": "1",
                  "2": "2.63",
                  "3": "9.5",
                  "4": "2.06",
                  "5": "1"
                },
                {
                  "0": "2",
                  "1": "1",
                  "2": "2.72",
                  "3": "14.5",
                  "4": "3.06",
                  "5": "1"
                },
                {
                  "0": "2",
                  "1": "1",
                  "2": "16.08",
                  "3": "50.0",
                  "4": "0.0",
                  "5": "0"
                },
                {
                  "0": "1",
                  "1": "1",
                  "2": "1.6",
                  "3": "11.0",
                  "4": "1.0",
                  "5": "1"
                },
                {
                  "0": "2",
                  "1": "2",
                  "2": "1.41",
                  "3": "7.5",
                  "4": "1.0",
                  "5": "1"
                },
                {
                  "0": "2",
                  "1": "1",
                  "2": "0.54",
                  "3": "7.0",
                  "4": "2.34",
                  "5": "1"
                },
                {
                  "0": "1",
                  "1": "1",
                  "2": "3.4",
                  "3": "14.5",
                  "4": "0.0",
                  "5": "0"
                },
                {
                  "0": "1",
                  "1": "1",
                  "2": "0.1",
                  "3": "3.0",
                  "4": "0.0",
                  "5": "0"
                },
                {
                  "0": "1",
                  "1": "1",
                  "2": "3.9",
                  "3": "16.0",
                  "4": "0.0",
                  "5": "0"
                },
                {
                  "0": "1",
                  "1": "1",
                  "2": "0.7",
                  "3": "5.0",
                  "4": "0.0",
                  "5": "0"
                },
                {
                  "0": "2",
                  "1": "1",
                  "2": "1.27",
                  "3": "9.5",
                  "4": "2.06",
                  "5": "1"
                },
                {
                  "0": "2",
                  "1": "1",
                  "2": "0.65",
                  "3": "4.5",
                  "4": "1.32",
                  "5": "1"
                },
                {
                  "0": "1",
                  "1": "1",
                  "2": "1.8",
                  "3": "9.0",
                  "4": "1.0",
                  "5": "1"
                },
                {
                  "0": "2",
                  "1": "1",
                  "2": "1.76",
                  "3": "9.0",
                  "4": "0.0",
                  "5": "0"
                },
                {
                  "0": "1",
                  "1": "1",
                  "2": "1.0",
                  "3": "6.0",
                  "4": "1.0",
                  "5": "1"
                },
                {
                  "0": "2",
                  "1": "1",
                  "2": "0.91",
                  "3": "6.0",
                  "4": "1.1",
                  "5": "1"
                },
                {
                  "0": "1",
                  "1": "1",
                  "2": "1.2",
                  "3": "5.5",
                  "4": "1.26",
                  "5": "1"
                },
                {
                  "0": "1",
                  "1": "2",
                  "2": "1.4",
                  "3": "7.0",
                  "4": "0.7",
                  "5": "1"
                },
                {
                  "0": "2",
                  "1": "4",
                  "2": "1.42",
                  "3": "8.0",
                  "4": "0.0",
                  "5": "0"
                },
                {
                  "0": "1",
                  "1": "1",
                  "2": "1.2",
                  "3": "10.0",
                  "4": "2.15",
                  "5": "1"
                },
                {
                  "0": "1",
                  "1": "1",
                  "2": "17.1",
                  "3": "52.0",
                  "4": "15.0",
                  "5": "1"
                },
                {
                  "0": "1",
                  "1": "1",
                  "2": "1.2",
                  "3": "7.5",
                  "4": "0.0",
                  "5": "0"
                },
                {
                  "0": "1",
                  "1": "1",
                  "2": "1.5",
                  "3": "7.0",
                  "4": "0.0",
                  "5": "0"
                },
                {
                  "0": "2",
                  "1": "2",
                  "2": "3.97",
                  "3": "17.0",
                  "4": "2.0",
                  "5": "1"
                },
                {
                  "0": "2",
                  "1": "3",
                  "2": "1.84",
                  "3": "8.0",
                  "4": "0.0",
                  "5": "0"
                },
                {
                  "0": "2",
                  "1": "1",
                  "2": "6.04",
                  "3": "27.5",
                  "4": "8.49",
                  "5": "1"
                },
                {
                  "0": "2",
                  "1": "1",
                  "2": "2.47",
                  "3": "11.5",
                  "4": "0.0",
                  "5": "0"
                },
                {
                  "0": "2",
                  "1": "1",
                  "2": "8.9",
                  "3": "27.5",
                  "4": "5.76",
                  "5": "1"
                },
                {
                  "0": "2",
                  "1": "1",
                  "2": "1.0",
                  "3": "5.5",
                  "4": "0.0",
                  "5": "0"
                },
                {
                  "0": "2",
                  "1": "3",
                  "2": "2.82",
                  "3": "19.5",
                  "4": "0.0",
                  "5": "0"
                },
                {
                  "0": "1",
                  "1": "1",
                  "2": "17.1",
                  "3": "52.0",
                  "4": "6.0",
                  "5": "1"
                },
                {
                  "0": "2",
                  "1": "1",
                  "2": "0.74",
                  "3": "5.0",
                  "4": "1.45",
                  "5": "1"
                },
                {
                  "0": "1",
                  "1": "2",
                  "2": "1.7",
                  "3": "8.0",
                  "4": "1.55",
                  "5": "1"
                },
                {
                  "0": "2",
                  "1": "5",
                  "2": "3.65",
                  "3": "14.0",
                  "4": "2.0",
                  "5": "1"
                },
                {
                  "0": "2",
                  "1": "2",
                  "2": "1.32",
                  "3": "6.5",
                  "4": "1.5",
                  "5": "1"
                },
                {
                  "0": "2",
                  "1": "1",
                  "2": "1.95",
                  "3": "12.0",
                  "4": "3.84",
                  "5": "1"
                },
                {
                  "0": "1",
                  "1": "2",
                  "2": "1.8",
                  "3": "9.5",
                  "4": "2.05",
                  "5": "1"
                },
                {
                  "0": "2",
                  "1": "1",
                  "2": "10.81",
                  "3": "34.0",
                  "4": "9.44",
                  "5": "1"
                },
                {
                  "0": "2",
                  "1": "1",
                  "2": "0.62",
                  "3": "6.5",
                  "4": "0.0",
                  "5": "0"
                },
                {
                  "0": "2",
                  "1": "5",
                  "2": "0.8",
                  "3": "5.5",
                  "4": "1.0",
                  "5": "1"
                },
                {
                  "0": "1",
                  "1": "3",
                  "2": "1.3",
                  "3": "8.0",
                  "4": "0.0",
                  "5": "0"
                },
                {
                  "0": "2",
                  "1": "3",
                  "2": "0.67",
                  "3": "5.5",
                  "4": "0.0",
                  "5": "0"
                },
                {
                  "0": "2",
                  "1": "1",
                  "2": "1.66",
                  "3": "8.0",
                  "4": "1.76",
                  "5": "1"
                },
                {
                  "0": "1",
                  "1": "1",
                  "2": "3.9",
                  "3": "12.5",
                  "4": "2.75",
                  "5": "1"
                },
                {
                  "0": "2",
                  "1": "1",
                  "2": "0.91",
                  "3": "6.5",
                  "4": "0.0",
                  "5": "0"
                },
                {
                  "0": "1",
                  "1": "1",
                  "2": "0.3",
                  "3": "3.0",
                  "4": "1.25",
                  "5": "1"
                },
                {
                  "0": "2",
                  "1": "1",
                  "2": "9.92",
                  "3": "32.5",
                  "4": "7.81",
                  "5": "1"
                },
                {
                  "0": "1",
                  "1": "1",
                  "2": "3.5",
                  "3": "11.5",
                  "4": "3.0",
                  "5": "1"
                },
                {
                  "0": "1",
                  "1": "1",
                  "2": "0.7",
                  "3": "8.5",
                  "4": "0.0",
                  "5": "0"
                },
                {
                  "0": "2",
                  "1": "2",
                  "2": "3.63",
                  "3": "23.0",
                  "4": "4.76",
                  "5": "1"
                },
                {
                  "0": "2",
                  "1": "1",
                  "2": "1.25",
                  "3": "6.5",
                  "4": "0.73",
                  "5": "1"
                },
                {
                  "0": "1",
                  "1": "1",
                  "2": "4.2",
                  "3": "23.0",
                  "4": "5.95",
                  "5": "1"
                },
                {
                  "0": "1",
                  "1": "1",
                  "2": "0.5",
                  "3": "3.5",
                  "4": "0.0",
                  "5": "0"
                },
                {
                  "0": "2",
                  "1": "1",
                  "2": "2.51",
                  "3": "14.5",
                  "4": "2.0",
                  "5": "1"
                },
                {
                  "0": "1",
                  "1": "1",
                  "2": "6.1",
                  "3": "20.0",
                  "4": "4.15",
                  "5": "1"
                },
                {
                  "0": "2",
                  "1": "1",
                  "2": "0.63",
                  "3": "6.5",
                  "4": "0.0",
                  "5": "0"
                },
                {
                  "0": "1",
                  "1": "1",
                  "2": "0.7",
                  "3": "5.0",
                  "4": "1.15",
                  "5": "1"
                },
                {
                  "0": "1",
                  "1": "1",
                  "2": "1.5",
                  "3": "7.0",
                  "4": "1.55",
                  "5": "1"
                },
                {
                  "0": "2",
                  "1": "2",
                  "2": "3.51",
                  "3": "15.0",
                  "4": "3.16",
                  "5": "1"
                },
                {
                  "0": "2",
                  "1": "1",
                  "2": "3.99",
                  "3": "16.0",
                  "4": "0.0",
                  "5": "0"
                },
                {
                  "0": "2",
                  "1": "6",
                  "2": "1.05",
                  "3": "6.5",
                  "4": "0.0",
                  "5": "0"
                },
                {
                  "0": "1",
                  "1": "1",
                  "2": "3.2",
                  "3": "15.0",
                  "4": "3.15",
                  "5": "1"
                },
                {
                  "0": "2",
                  "1": "2",
                  "2": "0.51",
                  "3": "4.0",
                  "4": "0.96",
                  "5": "1"
                },
                {
                  "0": "2",
                  "1": "1",
                  "2": "1.56",
                  "3": "11.0",
                  "4": "2.36",
                  "5": "1"
                },
                {
                  "0": "1",
                  "1": "2",
                  "2": "0.6",
                  "3": "5.0",
                  "4": "0.0",
                  "5": "0"
                },
                {
                  "0": "2",
                  "1": "1",
                  "2": "2.19",
                  "3": "9.5",
                  "4": "2.06",
                  "5": "1"
                },
                {
                  "0": "2",
                  "1": "1",
                  "2": "0.31",
                  "3": "4.5",
                  "4": "0.0",
                  "5": "0"
                },
                {
                  "0": "1",
                  "1": "1",
                  "2": "1.0",
                  "3": "5.5",
                  "4": "1.55",
                  "5": "1"
                },
                {
                  "0": "1",
                  "1": "1",
                  "2": "1.2",
                  "3": "8.5",
                  "4": "1.85",
                  "5": "1"
                },
                {
                  "0": "2",
                  "1": "2",
                  "2": "0.76",
                  "3": "9.0",
                  "4": "1.96",
                  "5": "1"
                }
              ],
              "schema": [
                {
                  "key": "0",
                  "name": "vendorID",
                  "type": "string"
                },
                {
                  "key": "1",
                  "name": "passengerCount",
                  "type": "int"
                },
                {
                  "key": "2",
                  "name": "tripDistance",
                  "type": "double"
                },
                {
                  "key": "3",
                  "name": "fareAmount",
                  "type": "double"
                },
                {
                  "key": "4",
                  "name": "tipAmount",
                  "type": "double"
                },
                {
                  "key": "5",
                  "name": "tipped",
                  "type": "int"
                }
              ],
              "truncated": false
            },
            "isSummary": false,
            "language": "scala"
          },
          "persist_state": {
            "view": {
              "type": "details",
              "tableOptions": {},
              "chartOptions": {
                "chartType": "bar",
                "aggregationType": "sum",
                "categoryFieldKeys": [
                  "0"
                ],
                "seriesFieldKeys": [
                  "1"
                ],
                "isStacked": false
              }
            }
          }
        }
      }
    }
  },
  "nbformat": 4,
  "nbformat_minor": 2
}